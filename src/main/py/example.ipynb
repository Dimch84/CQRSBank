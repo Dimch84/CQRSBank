{
 "cells": [
  {
   "cell_type": "code",
   "execution_count": 22,
   "metadata": {
    "collapsed": true
   },
   "outputs": [],
   "source": [
    "import pandas as pd\n",
    "import random as rand\n",
    "from tqdm import tqdm\n",
    "from send import *"
   ]
  },
  {
   "cell_type": "code",
   "execution_count": 23,
   "outputs": [],
   "source": [
    "data = pd.read_csv(\"data/training.1600000.processed.noemoticon.csv\", sep=',', names=[\"num\", \"id\", \"datetime\", \"query\", \"name\", \"msg\"], encoding='latin-1')"
   ],
   "metadata": {
    "collapsed": false,
    "pycharm": {
     "name": "#%%\n"
    }
   }
  },
  {
   "cell_type": "code",
   "execution_count": 24,
   "outputs": [
    {
     "data": {
      "text/plain": "   num          id                      datetime     query             name  \\\n0    0  1467810369  Mon Apr 06 22:19:45 PDT 2009  NO_QUERY  _TheSpecialOne_   \n1    0  1467810672  Mon Apr 06 22:19:49 PDT 2009  NO_QUERY    scotthamilton   \n2    0  1467810917  Mon Apr 06 22:19:53 PDT 2009  NO_QUERY         mattycus   \n3    0  1467811184  Mon Apr 06 22:19:57 PDT 2009  NO_QUERY          ElleCTF   \n4    0  1467811193  Mon Apr 06 22:19:57 PDT 2009  NO_QUERY           Karoli   \n\n                                                 msg  \n0  @switchfoot http://twitpic.com/2y1zl - Awww, t...  \n1  is upset that he can't update his Facebook by ...  \n2  @Kenichan I dived many times for the ball. Man...  \n3    my whole body feels itchy and like its on fire   \n4  @nationwideclass no, it's not behaving at all....  ",
      "text/html": "<div>\n<style scoped>\n    .dataframe tbody tr th:only-of-type {\n        vertical-align: middle;\n    }\n\n    .dataframe tbody tr th {\n        vertical-align: top;\n    }\n\n    .dataframe thead th {\n        text-align: right;\n    }\n</style>\n<table border=\"1\" class=\"dataframe\">\n  <thead>\n    <tr style=\"text-align: right;\">\n      <th></th>\n      <th>num</th>\n      <th>id</th>\n      <th>datetime</th>\n      <th>query</th>\n      <th>name</th>\n      <th>msg</th>\n    </tr>\n  </thead>\n  <tbody>\n    <tr>\n      <th>0</th>\n      <td>0</td>\n      <td>1467810369</td>\n      <td>Mon Apr 06 22:19:45 PDT 2009</td>\n      <td>NO_QUERY</td>\n      <td>_TheSpecialOne_</td>\n      <td>@switchfoot http://twitpic.com/2y1zl - Awww, t...</td>\n    </tr>\n    <tr>\n      <th>1</th>\n      <td>0</td>\n      <td>1467810672</td>\n      <td>Mon Apr 06 22:19:49 PDT 2009</td>\n      <td>NO_QUERY</td>\n      <td>scotthamilton</td>\n      <td>is upset that he can't update his Facebook by ...</td>\n    </tr>\n    <tr>\n      <th>2</th>\n      <td>0</td>\n      <td>1467810917</td>\n      <td>Mon Apr 06 22:19:53 PDT 2009</td>\n      <td>NO_QUERY</td>\n      <td>mattycus</td>\n      <td>@Kenichan I dived many times for the ball. Man...</td>\n    </tr>\n    <tr>\n      <th>3</th>\n      <td>0</td>\n      <td>1467811184</td>\n      <td>Mon Apr 06 22:19:57 PDT 2009</td>\n      <td>NO_QUERY</td>\n      <td>ElleCTF</td>\n      <td>my whole body feels itchy and like its on fire</td>\n    </tr>\n    <tr>\n      <th>4</th>\n      <td>0</td>\n      <td>1467811193</td>\n      <td>Mon Apr 06 22:19:57 PDT 2009</td>\n      <td>NO_QUERY</td>\n      <td>Karoli</td>\n      <td>@nationwideclass no, it's not behaving at all....</td>\n    </tr>\n  </tbody>\n</table>\n</div>"
     },
     "execution_count": 24,
     "metadata": {},
     "output_type": "execute_result"
    }
   ],
   "source": [
    "data.head()"
   ],
   "metadata": {
    "collapsed": false,
    "pycharm": {
     "name": "#%%\n"
    }
   }
  },
  {
   "cell_type": "code",
   "execution_count": 25,
   "outputs": [
    {
     "data": {
      "text/plain": "(1600000, 6)"
     },
     "execution_count": 25,
     "metadata": {},
     "output_type": "execute_result"
    }
   ],
   "source": [
    "data.shape"
   ],
   "metadata": {
    "collapsed": false,
    "pycharm": {
     "name": "#%%\n"
    }
   }
  },
  {
   "cell_type": "markdown",
   "source": [
    "# Functions"
   ],
   "metadata": {
    "collapsed": false
   }
  },
  {
   "cell_type": "code",
   "execution_count": 51,
   "outputs": [],
   "source": [
    "def generate_id():              # do it another way later\n",
    "    return rand.randint(0, 1000000)"
   ],
   "metadata": {
    "collapsed": false,
    "pycharm": {
     "name": "#%%\n"
    }
   }
  },
  {
   "cell_type": "code",
   "execution_count": 42,
   "outputs": [],
   "source": [
    "def random_name():\n",
    "    return data.sample()[\"name\"].values.tolist()[0]"
   ],
   "metadata": {
    "collapsed": false,
    "pycharm": {
     "name": "#%%\n"
    }
   }
  },
  {
   "cell_type": "code",
   "execution_count": 43,
   "outputs": [],
   "source": [
    "def create_data_by_name(name: str, max_len: int=None):\n",
    "    created_data = data[data[\"name\"] == name][\"msg\"].values.tolist()\n",
    "    if max_len is not None:\n",
    "        created_data = created_data[:max_len]\n",
    "    return created_data"
   ],
   "metadata": {
    "collapsed": false,
    "pycharm": {
     "name": "#%%\n"
    }
   }
  },
  {
   "cell_type": "markdown",
   "source": [
    "# Example"
   ],
   "metadata": {
    "collapsed": false
   }
  },
  {
   "cell_type": "code",
   "execution_count": 44,
   "outputs": [],
   "source": [
    "user_dict = dict()"
   ],
   "metadata": {
    "collapsed": false,
    "pycharm": {
     "name": "#%%\n"
    }
   }
  },
  {
   "cell_type": "code",
   "execution_count": 52,
   "outputs": [],
   "source": [
    "def example_random(verbose=False):\n",
    "    name = random_name()\n",
    "    if name in user_dict:\n",
    "        if verbose:\n",
    "            print(\"skip, user info already added\")\n",
    "        return\n",
    "    id = generate_id()\n",
    "    user_dict[name] = id\n",
    "    data = create_data_by_name(name)\n",
    "    # print(get_info(id))\n",
    "    # delete_info(id)\n",
    "    print(\"add: \", add_info(id, data))\n",
    "    print(get_info(id))"
   ],
   "metadata": {
    "collapsed": false,
    "pycharm": {
     "name": "#%%\n"
    }
   }
  },
  {
   "cell_type": "code",
   "execution_count": 53,
   "outputs": [],
   "source": [
    "def fill_users_data(iters=100):\n",
    "    for i in tqdm(range(iters)):\n",
    "        example_random()"
   ],
   "metadata": {
    "collapsed": false,
    "pycharm": {
     "name": "#%%\n"
    }
   }
  },
  {
   "cell_type": "code",
   "execution_count": 54,
   "outputs": [
    {
     "name": "stderr",
     "output_type": "stream",
     "text": [
      "  1%|          | 1/100 [00:00<00:25,  3.81it/s]"
     ]
    },
    {
     "name": "stdout",
     "output_type": "stream",
     "text": [
      "add:  ok\n",
      "{\"id\":140106,\"data\":[\"@loumacuser You mean like when AOLers first got on USENET back in the 90s... Yeah, that was fun \",\"@zyber17 Nope, doesn\\u0027t appear to make any difference if your own Gmail (free) or Accounts (paid). Both fail equally. \",\"@iPhoneDocked Started seeing that a couple days ago. Seems like Apple is cutting down on OTA and cracking down on multiple downloads \",\"@sethclifford Not data, I\\u0027m guessing \\u0026quot;piracy\\u0026quot; control given the new multiple logins under 3.0 \",\"@iPhoneDocked I used it all the time just to manage apps. Don\\u0027t need, delete. Need again, re-download. I\\u0027d never need multiple accounts \",\"@MichaelManna So far they don\\u0027t let filthy Canadians roll their own Kindle versions \",\"@excaliburca Sadly, many masses prefer virtual worlds to the real one \",\"@sethclifford Absolutely, because bad guys are likely already salivating over all those no-questions-asked obfuscated URL clicks \",\"@lemketron Outside OWA via Safari or IMAP Mail, depressingly not. \",\"@patricknorton $0.99 a liter in Montreal yesterday. $1.08 today. Was up to $1.50 last year... \",\"Could @Twitter do something about all the \\u0026quot;brittney f*ed vid\\u0026quot; followers or are we waiting for Ashton to hit a million of those too? \",\"@miss_mu That\\u0027s enough to make any grown, mellow human weep. Hope he can get it fixed and childlike sense of wonder restored asap! \",\"@sarbour You can tether with Rogers free until new year. You need to restore (not just update) to get button \",\"@emhalverson Killing us too. Working as fast as we can. Big job though \",\"@jasonmerling Last year I had to tell the Rogers reps about the VVM value pack. Rogers doesn\\u0027t communicate with reps very well \",\"@jasonmerling It was sent to us by Rogers directly, they didn\\u0027t provide a link. Guessing they haven\\u0027t updated site yet \",\"Rogers fail already! Customer central not showing iPhone upgrade for me \",\"Feel bad for everyone stuck outside in the rain while Rogers iPhone 3G S upgrades fail   http://yfrog.com/5h9ebj\",\"Got through to Rogers csr, all they could do was offer to sell me an iPhone 3G S upgrade and ship it in 3 days! \",\"@kyleleonard No, but I was one of the few who managed to actually get Rogers to work. Line was barely moving \",\"@monsieurnguyen IE6 rendering engine needs to be legally outlawed for the good of the web \",\"@Alli_Flowers I stopped spelling it RenÃ© online when Amazon\\u0027s international stores all massacred my book listings into Reni. \",\"@ipaladin You wouldn\\u0027t have been if you saw how bad Rogers failed for upgrades on iPhone 3G S launch day  \",\"@ijayson66 Don\\u0027t think anybody knows. Complete black box. Like limbo \",\"@LDC_Mobile @BadAsh77 is on it! Thanks for keeping us covered, though \",\"@Tweetie for Mac uses awesome \\u0026quot;per user\\u0026quot; not awful \\u0026quot;per machine\\u0026quot; licensing. Kudos. Hopefully this is contagious. \",\"@rpalumbo We try to get the podcast up Thursdays \",\"@excaliburca I haven\\u0027t tried Twittelator Pro. Secretly hoping I don\\u0027t have to add another one! \",\"@llofte You can stop any time. Just keep telling yourself that \",\"@Nguyen I\\u0027ve still got a Jornada, should we start a museum? \",\"@llofte Both parents from South Africa. And no worries \",\"@mlh418 Thanks! Still wish Amazon would, you know, add all the books \",\"@lulugirl896 I sound like a paid to a lot of people \",\". @daveizzle See, my way of thinking is that I\\u0027m the customer, they should get *me* tattooed on *them*. How about it, Apple? \",\"@Jeffdc5 Grabbed it from Enagdget, going up soon. Ran with iTunes 8.2 first  But thanks for the head\\u0027s up!\",\"@sethclifford My @1password use is to sync to multiple macs, always have passwords ready in browser  Also gen nasty pseudo-randoms \",\"@jamesthomson Oh, well, yes. Totally fine then. Carry on. Good forum discussion too. \",\"@PhilNickinson More swiping than your iPod touch? I didn\\u0027t mind Treo Pro keyboard - though I far prefer virtual ones \",\"@daveizzle Hey, she picked TiPb as one of the best smartphone blogs on the net, so I\\u0027ll still heart her \",\"@meinck Careful, Arrington may have questions for you now \",\"@crackberrykevin All of the above? \",\"@daveizzle Like I told @badash77, if they arrive early, I expect !@ SteveJobs head to \\u0027splode \"]}\n"
     ]
    },
    {
     "name": "stderr",
     "output_type": "stream",
     "text": [
      "  2%|▏         | 2/100 [00:00<00:25,  3.79it/s]"
     ]
    },
    {
     "name": "stdout",
     "output_type": "stream",
     "text": [
      "add:  ok\n",
      "{\"id\":267354,\"data\":[\"@epiphane32 no unfortunatly  lol but I saw one of my friends get done off and say some crazy drunken shit lmao\",\"omg at the traffic ..making me mad sleepy \",\"@Dabusinessman yeah it really does  I think this the first year it\\u0027s rained on my bday..oh well I won\\u0027t it stop my fun lol\"]}\n"
     ]
    },
    {
     "name": "stderr",
     "output_type": "stream",
     "text": [
      "  3%|▎         | 3/100 [00:00<00:25,  3.77it/s]"
     ]
    },
    {
     "name": "stdout",
     "output_type": "stream",
     "text": [
      "add:  ok\n",
      "{\"id\":806885,\"data\":[\"i need followers  follow me\",\"i need more followers and follow more people, where is everyone from here \"]}\n"
     ]
    },
    {
     "name": "stderr",
     "output_type": "stream",
     "text": [
      "  4%|▍         | 4/100 [00:01<00:25,  3.78it/s]"
     ]
    },
    {
     "name": "stdout",
     "output_type": "stream",
     "text": [
      "add:  ok\n",
      "{\"id\":984506,\"data\":[\"Grrr, facebook is still SO slow! \",\"@AngliaSolutions I get too attached! Althouh, another of my cats is pregnant and we are going to have to give those up \",\"@etherealprey No idea, but so many people are complaining! I don\\u0027t like it \",\"@vee_again Yea, the slow facebook has become an epidemic by the seems of it!  x\",\"Facebook is so annoying! \",\"@vpjones Loads of people are! Mine has been slow for the past few days \",\"Really? That\\u0027s mean! No mine seem to be ok atm, it\\u0027s so annoying though \",\"@Emma300 Really? That\\u0027s mean! No mine seem to be ok atm, it\\u0027s so annoying though \",\"@id0notkn0w Really slow for you too? \",\"@DanielFielding Yea that\\u0027s true! They were Â£50 for the series in HMV a while back but I\\u0027m a poor student  lol\",\"@carlgallagher83 Yea \",\"Really bad stomach cramps \",\"And now it rains... bye bye summer \",\"The underwires of my fav bra are poking out... bad times! Katie sad!  x\",\"@AngNewell77 I have never been on a plane!  lol xxx I have only passed through it never actually stayed in lol xxxx\",\"My DVD player is broken \",\"I was missing Mitchell and Webb! \",\"Starting to get a headache \",\"@kevin_hoare Aww! Poor you  Well it\\u0027s understanable ur grumpy if she doesn\\u0027t say thanks! It it brilliant! \",\"I have a sun burn issue! \",\"Sunburn hurts \",\"@DanielFielding Awww! It was ok till we went in the sea!  Awww! Poor you! xx\",\"WILL do some work today! \",\"Oooh, Carry on Films  LOve it (:\",\"@AngliaSolutions Yea she is! She had kittens last year, so we have another tabby and a black and ginger kind of tabby  x\",\"Oooh, thanks to lovely slightly geeky computer literate friend, my facebook has now reached a liveable pace. Not perfect, but thank you! \",\"@DanielFielding Awwww! Don\\u0027t worry about it hun. There are worse things they could say!  x\",\"@christinagarber Check what out? \",\"@nineveh_havant Stupid ITV programme... part of Simon Cowell\\u0027s plan to take over the world!  x\",\"@Emma300 Yea... well I hope she gets everything u and working again soon \",\"@nette01 Nope. I know people, either agree or be kidnapped and forced ;) Ok, I lied, I know no one  x\",\"@DanielFielding lol!I stopped those a while ago!  Nah, this was a pretty good email  x\",\"@DanielFielding LOL! Fair enough  I deffo use it alot more now I have finished uni, cos I have nothing better to do! \",\"@DanielFielding It will get a lot bigger  Her Mum was huge when she was pregnant (:\",\"@DanielFielding Awww! I love cats (: I will be that cat woman from The Simpsons in a few years \",\"@DanielFielding Awww really? That is such a nice story  x\",\"@AngNewell77 Yea  Thanks (: I shall look out for them \",\"@DanielFielding Didn\\u0027t think so! Oooh you are very cool ;) I have a few, I collect famous comedians on facebook  x\",\"@007hil with what?  x\",\"@giantlawnmower Night  x\",\"@AceMas21 @AngNewell77 Thanks guys!  I shall make the journey sometime this wk  x\",\"@PurpleMuffinMan That\\u0027s what they all say, then they aren\\u0027t seen again all sum,emerging all white and pasty!   xx\",\"@Azlen awww thanks!  I have about 5 of those Brit things...grrr!  xxx\",\"@oreoking Oooh thank you! I love Oreos  xx\",\"@kevin_hoare No! I ordered this before, I think I may have to invest though!  xx\",\"@DanielFielding Hmm ok then  x Awww wait till A Levels way worse   x\",\"@DanielFielding Hmm, there is no need for that,just shows how worthless he thinks he is! No I hadn\\u0027t...Yea, def! Just ignore him! x \",\"@Josh_Biggs I don\\u0027t know, I could be doing something much more fun! It\\u0027s just a waste of time I think!  xx\",\"@imrananwar Lol, yea I think that mayb a good idea \",\"@DanielFielding Nah, ur not old enough to vote. Ur still good  x\",\"@AceMas21 Sounds like heaven!  xx\",\"@kevin_hoare *evil laugh*  xx\",\"@IndieChavv I hate burning myself with straightners... I always feel like evolution should have weeded ppl like me out!  x\",\"@kevin_hoare I dispute that!  xx\",\"@kevin_hoare It was no reflection on you  x\",\"Bed time for me!  Night guys! xxxxx\",\"@Josh_Biggs Thanks!  x\"]}\n"
     ]
    },
    {
     "name": "stderr",
     "output_type": "stream",
     "text": [
      "  5%|▌         | 5/100 [00:01<00:24,  3.84it/s]"
     ]
    },
    {
     "name": "stdout",
     "output_type": "stream",
     "text": [
      "add:  ok\n",
      "{\"id\":807087,\"data\":[\"as i go and deal with two dead fish...i think boiled them  â« http://blip.fm/~8kktx\",\"@pbssupersisters   I JUST REALIZED HOW MUCH I MISS YOU GALS!!!!  Family reunions have to be a blast around your parts!!!! XOXOXOX Kelly D\",\"rain rain go away ...we want to get out and drive today  http://tinyurl.com/59k2\",\"@osplanner why not...he has enough tenure \",\"@twstephens thanks for posting all the videos  GO MAGIC!!! \",\"just enjoyed an almost over flowing bowl of turkey chili (from the can) \",\"@WestSideStry I look forward to seeing it  #tony I am in the mtn time zone\"]}\n"
     ]
    },
    {
     "name": "stderr",
     "output_type": "stream",
     "text": [
      "  6%|▌         | 6/100 [00:01<00:24,  3.86it/s]"
     ]
    },
    {
     "name": "stdout",
     "output_type": "stream",
     "text": [
      "add:  ok\n",
      "{\"id\":496346,\"data\":[\"Yay! editing our shameful drama production, not exactly my finest piece.  http://twitpic.com/5fcq6\"]}\n"
     ]
    },
    {
     "name": "stderr",
     "output_type": "stream",
     "text": [
      "  7%|▋         | 7/100 [00:01<00:23,  3.97it/s]"
     ]
    },
    {
     "name": "stdout",
     "output_type": "stream",
     "text": [
      "add:  ok\n",
      "{\"id\":219115,\"data\":[\"no more lost for 8 months? how can this be? \",\"@adcoulter shrugggssss.. sorry  you still have time to convince him.\",\"Sigh. Good job mom. Take the key that unlocks the door off the key ring  stranded waiting for my dad\",\"so confused about all this phone nonsense. probably not getting it until monday \",\"wow. i am starving. still at work \",\"@Chopsticka42 you can never have too much wow  but yes, that (and some board games) are the reason for my late night\"]}\n"
     ]
    },
    {
     "name": "stderr",
     "output_type": "stream",
     "text": [
      "  8%|▊         | 8/100 [00:02<00:23,  3.93it/s]"
     ]
    },
    {
     "name": "stdout",
     "output_type": "stream",
     "text": [
      "add:  ok\n",
      "{\"id\":607079,\"data\":[\"Just typed up massive trench warfare plans for the defense of the Papal States in 1983. \\u0026lt;3 forum-based geopolitical wargames. \"]}\n"
     ]
    },
    {
     "name": "stderr",
     "output_type": "stream",
     "text": [
      "  9%|▉         | 9/100 [00:02<00:23,  3.87it/s]"
     ]
    },
    {
     "name": "stdout",
     "output_type": "stream",
     "text": [
      "add:  ok\n",
      "{\"id\":661292,\"data\":[\"@RaeP13 THANKS THATS IT NOW OVER WITH TIRED FOR A UPSELL BUT FAILED  HAHAHA!! p.s sorry for caps cnt be bothered changing it!\",\"morning!! just in work very very tired. im off tomoro not too bad but working sat now \",\"@stu_evans hahaha!! nah not yet i finish at 2 then going home for a change then ill be going. but its raining   u up to much? x\",\"in work shattered!! working on a sat sucks \",\"sooo bored! in work till 5.20 \"]}\n"
     ]
    },
    {
     "name": "stderr",
     "output_type": "stream",
     "text": [
      " 10%|█         | 10/100 [00:02<00:22,  3.92it/s]"
     ]
    },
    {
     "name": "stdout",
     "output_type": "stream",
     "text": [
      "add:  ok\n",
      "{\"id\":439125,\"data\":[\"i\\u0027ve been to Atlanta about 15 times since i\\u0027ve been an adult and have yet to goto a strip club. \",\"@PoetikPoeta Yes I sure am. \",\"@chuckcreekmur  they gonna have to catch me first.\",\"It be nice to have some oral sexulation right now. Oh well. \",\"@SlimNash Well damn! Sorry Wes Fif. \",\"@Chuybe  how come though?\",\"@LadyDuval4ISM I missed them.  I am about to go back and look.\",\"@MixedByMrB  poor guy. Man I never been and hope to never go cause if I do have to go, all I\\u0027d say is \\u0026quot;guilty\\u0026quot;\",\"@LadyDuval4ISM Why I deserve that? \",\"@rappublicist Lucky you. \",\"@so_jentastic I wanted some ice cream earlier.  I failed however.\",\"@MsCrunk It cool though. \",\"@djdadj Yes they are. \",\"@DatOnePrincess I ain\\u0027t trying to get the cops calls again. \",\"@jasminestarr22 It\\u0027s ok...I\\u0027m over it now.  tough L to take though.\",\"@promotingyou @CristalBubblin lol  It was a joke but Twitter was slow with the execution of my joke. \",\"@RapCoalition WOW!  sorry to hear that.\",\"Man damn! I have no more donuts. \",\"@LEXXXRUGER It has? \",\"One day I will have a trending topic.  I don\\u0027t think #epicmeat or #jergensmaterial will work.\",\"@UrbanRelations I\\u0027m sorry. \",\"Wes Fif was with Slip-N-Slide but they didn\\u0027t do shit, so we Slipped N Slide  They loss tho...who they got better than Wes Fif?\",\"@MsOhSoWright I ain\\u0027t got nothing to hide. \",\"@Chuybe I see. Well, it will come someday. \",\"@ShaunBabineaux  MAYBE i SHOULD THEN HUh?\",\"@ShaunBabineaux WHy thank you! \"]}\n"
     ]
    },
    {
     "name": "stderr",
     "output_type": "stream",
     "text": [
      " 11%|█         | 11/100 [00:02<00:22,  3.98it/s]"
     ]
    },
    {
     "name": "stdout",
     "output_type": "stream",
     "text": [
      "add:  ok\n",
      "{\"id\":184615,\"data\":[\"Oh great, the pain is back \",\"@jaulin I hope you\\u0027ll get the job!  It\\u0027s even difficult to get one where you don\\u0027t actually need an education. What\\u0027s up with that like?\",\"@jaulin Thank you so much for your help! \"]}\n"
     ]
    },
    {
     "name": "stderr",
     "output_type": "stream",
     "text": [
      " 12%|█▏        | 12/100 [00:03<00:22,  3.97it/s]"
     ]
    },
    {
     "name": "stdout",
     "output_type": "stream",
     "text": [
      "add:  ok\n",
      "{\"id\":91760,\"data\":[\"@akaJosielou sounds fun...i\\u0027ve been working all day  it sux ass!!!!!!!\",\"has less than 5 days til the movers come and my b-room isn\\u0027t ready. Have u ever felt like the world is crashing down on u? Thats my life. \",\"is trying to get my iMovie to work \",\"@akaJosielou lol yeah....we r finishing up here right now...tomorrow we go and put maggie\\u0027s ashes in the back yard \",\"@akaJosielou yeah i\\u0027m still living...kinda....my back is killing me....damn back problems \",\"back from my b-day celebration! LOVED IT!!!!$60 for iTunes and an amazing meal from Morton\\u0027s Steakhouse. Poor Fred the lobster \"]}\n"
     ]
    },
    {
     "name": "stderr",
     "output_type": "stream",
     "text": [
      " 13%|█▎        | 13/100 [00:03<00:21,  3.98it/s]"
     ]
    },
    {
     "name": "stdout",
     "output_type": "stream",
     "text": [
      "add:  ok\n",
      "{\"id\":384172,\"data\":[\"Last day in Finland..Time to sat goodbye  \",\"Time to say Goobye..Last day in Finland.Tomorrow its home to rainy Ireland  \"]}\n"
     ]
    },
    {
     "name": "stderr",
     "output_type": "stream",
     "text": [
      " 14%|█▍        | 14/100 [00:03<00:21,  3.93it/s]"
     ]
    },
    {
     "name": "stdout",
     "output_type": "stream",
     "text": [
      "add:  ok\n",
      "{\"id\":504555,\"data\":[\"Watching Jimmy F.  delete all his social network profiles  No more Jimmy cyber time.\",\"@smuttysteff so sad I can\\u0027t make the ice cream tweetup \",\"@remember_it Miss you too! No one to eat a whole watermelon with \",\"@SocialBites You looked amazing!! I thought the clip was great \"]}\n"
     ]
    },
    {
     "name": "stderr",
     "output_type": "stream",
     "text": [
      " 15%|█▌        | 15/100 [00:03<00:21,  3.90it/s]"
     ]
    },
    {
     "name": "stdout",
     "output_type": "stream",
     "text": [
      "add:  ok\n",
      "{\"id\":61003,\"data\":[\"I don\\u0027t know what to wear... I have no summery clothes  any suggestions on how I could wing it?\",\"@girl_foo ohhhhh  I must never ever drink again\",\"Ohhhhhhh need food  waiting for my friend outside her halls, have been promised coke and tea.\",\"@xwidep oh that\\u0027s rubbish  did you want to carry on playing online or not then?\",\"@averyps Pllleeease don\\u0027t post any spoilers because I haven\\u0027t seen it yet  and everyone\\u0027s saying how great it was lol\",\"@habzamaphone awww mate that sucks  maybe have a nap this afternoon? worked for me yesterday\",\"OH!!! It literally came through as I sent that last tweet  Guess I\\u0027m off then *sniff* remember me...\",\"@WGDurrant Maybe I should just do some spring cleaning?  I want them all though  lol\",\"Have agreed to go to London for the day but it\\u0027s raining and it\\u0027s sunny here  rubbish! I wanted to wear my new hat lol\",\"@Bondwalker I know, I\\u0027m SO excited about it!! AND Red Dwarf this weekend too!! \",\"Okay, I\\u0027m definitely going to the gym now  Laters!\",\"@xktstarx oh actually, the one on there is my old number, i\\u0027ll change it now, it ends with 023 \",\"@JohnWeston thanks mate, he\\u0027s fine - at home and stuff \",\"Mum\\u0027s home, seemed to have a good time  I\\u0027m cracking on with work and star trek - sweet!\",\"@xwidep thank you for the follow friday rec \",\"My data entry is finished for another couple of days wooo  I\\u0027m too damn resilient to let something affect me as much, so I won\\u0027t. I\\u0027m fine\",\"@NathalieCaron  I\\u0027m glad you asked.  I just made it up because I\\u0027m so sick of all the BGT fuss\",\"@nineveh_havant why repeat the mistakes of our elders? \",\"@FredHorn Lol it\\u0027s my own private little corner of lovely \",\"@tweetiepies It certainly does - my pent up vitamin d is running riot this morning \",\"@Cezza_B thank you \",\"@gemgemz7 I\\u0027m the one with the short brown hair \",\"Bournemouth beach has sand!!! \",\"Given up on the hole and dug another one instead. Pete is now buried up to his knees \",\"@xwidep I\\u0027m sure I can find it in myself to forgive you for that... eventually.... maybe...? \",\"I got my 30 forms done before lunch (am yet to eat lunch) and have tidied my room up as well. Now sat in the garden \",\"@xwidep that\\u0027s exactly what I had for dinner, except I had an onion bhaji with it too  nom!\",\"@PHIPPS117 The wii rocks and you know it lol! Especially when Becca is unable to make it work properly - comedy value!! \",\"@tmofee me too  the album is wicked too\",\"My song of the moment is definitely \\u0027Digital Bath\\u0027 by the Deftones - give it a listen \",\"JUST woken up. 9 hours sleep seems to have helped \",\"Hooray my lovely best mate\\u0027s Mum is dropping my work round to save me walking and struggling with it because it\\u0027s heavy  Much love!\",\"Ahh \\u0027Longview\\u0027 by Green Day - reminds me of trying to swear along as loudly as I could w/o being told off lol \",\"Ooo I\\u0027ve just been invited out for a meal tonight with the rest of the dept. I\\u0027ve been working in at the school  Has made me feel loved!\",\"Mmm burning hot sunshine... secretly quite happy the data entry went wrong \",\"@Jimmy_Saunders You\\u0027re welcome m\\u0027dear  have you had a good week?\",\"@Vemsteroo ha, the chance would be a fine thing! Still, *fingers crossed* \",\"@xwidep making the playlists is the fun bit anyway \",\"@aherne148 excellent  where and when lol\",\"@bitblonde blatantly ashes to ashes though, surely? \",\"@joshtastic1 Ohh ok, I didn\\u0027t know!!   I think Chris is fitter tbh\"]}\n"
     ]
    },
    {
     "name": "stderr",
     "output_type": "stream",
     "text": [
      " 16%|█▌        | 16/100 [00:04<00:20,  4.01it/s]"
     ]
    },
    {
     "name": "stdout",
     "output_type": "stream",
     "text": [
      "add:  ok\n",
      "{\"id\":666133,\"data\":[\"God Morning Friends.  Just 12 steps away from a good start for the day!   Peace...Sober Cleric.\"]}\n"
     ]
    },
    {
     "name": "stderr",
     "output_type": "stream",
     "text": [
      " 17%|█▋        | 17/100 [00:04<00:20,  4.05it/s]"
     ]
    },
    {
     "name": "stdout",
     "output_type": "stream",
     "text": [
      "add:  ok\n",
      "{\"id\":532543,\"data\":[\"really needs to stop reading the pets\\u0027 stories on petfinder  way too sad\"]}\n"
     ]
    },
    {
     "name": "stderr",
     "output_type": "stream",
     "text": [
      " 18%|█▊        | 18/100 [00:04<00:19,  4.16it/s]"
     ]
    },
    {
     "name": "stdout",
     "output_type": "stream",
     "text": [
      "add:  ok\n",
      "{\"id\":888198,\"data\":[\"After all the little drinking I\\u0027ve done, I swear it was that In-N-Out burger that made me barf my brains out \",\"Things that hit hard: the fact that I won\\u0027t know what Mr. Cerpa\\u0027s carne asada tastes like, but pussy has. \",\"Why is everyone breaking up these days?  I\\u0027m thankful for my relationship \",\"@silly181818 nooo that was ronni  Me and erik are perfect right now.\",\"I feel like the word \\u0026quot;Stupid\\u0026quot; is written on my forehead in BIG bold letters for everything I go through for you at times \",\"When I\\u0027m rushed, I have a alf a glass of OJ. When I\\u0027m not rushed, I have a full glass \",\"IT IS EFFIN HOT OUT HERE. CLASS OF 2009 WILL HAVE SKIN CANCER BY THE END OF TODAY But we\\u0027ll all havea really bomb ass tan  glass half full\",\"Everyone is going Crazy. This isn\\u0027t a sad graduation whatsoever  \",\"G. Morning you all \",\"I\\u0027m not working today. Lmao and a TB is god. I can\\u0027t wait to own one \",\"My poor 1TB... Its sitting here in the box. Tomorrow I shall use you my new multimedia-god friend. Be patient \",\"\\u0026quot;Today was a gouwd day\\u0026quot; -Leigh-Anne \",\"Max started barking apparently he saw someone he didn\\u0027t like hahaha \",\"That was seriously so fun. Gosh, leave it to Kyle to lift my spirits  (there\\u0027s two awesome Kyle\\u0027s at this party) haha\",\"Still laying in bed talking to Ashley. What a great night, even though I think I should\\u0027ve crashed long ago. Lmao \",\"I\\u0027m starting to like these phone calls more often from Mr. Big. Lmao anywho G. Night ya\\u0027ll people \"]}\n"
     ]
    },
    {
     "name": "stderr",
     "output_type": "stream",
     "text": [
      " 19%|█▉        | 19/100 [00:04<00:20,  4.01it/s]"
     ]
    },
    {
     "name": "stdout",
     "output_type": "stream",
     "text": [
      "add:  ok\n",
      "{\"id\":191000,\"data\":[\"how can i revise, without my revision? \",\"@GracieBean come and revise with me, i have no motivation \",\"@JenBower Haha thanks. NOMNOMNOM. Still hungry!  My back is killing. Worrying about maths and media exams on monday :/\",\"I don\\u0027t want to revise! \",\"I don\\u0027t know, I feel like I\\u0027m missing something! Lmao ignore me (A) Mattheeew seems upset! And so do you \",\"@Kawaii_Jadee lmao, you sly fuck. My back is killing  REIDY MOVE UP YOU COCK.\",\"@sophiaah aww! I want them! \",\"anything good on at the cinemas? \",\"Argh. I\\u0027m so bored. And hungry. And thirsty. \",\"@ChreeesDunn Aww pooby! When it says that, I\\u0027m sure it means it\\u0027s on its way though. Cause it\\u0027s no longer in the \\u0027packing\\u0027 stage. I dunno \",\"@ChreeesDunn Awwww! I\\u0027m sure it will come!  @Kawaii_Jadee My stomach\\u0027s just growling for food! \\u0026gt;\",\"*pisses on the library floor* thanks for coming to the loo with me bitches! \",\"At dans. I want some crap to eat!  Im proper boiling too!\",\"@GracieBean Sup now boomer? \",\"@MervLukeba Aww  And yeah, twisters are ace. And calippos! :\\u0027D I want one nowwww. x\",\"Just got off the phone with @GracieBean I feel sick from the cadburys yoghurt \",\"i feel like shit \",\"1OOth update right here! :O Yay for meeee!    Can\\u0027t wait for my sundaaaaay din dins \",\"@apple_bitch morning hun! @ChreeesDunn my name is xTammyDevine on it, xTammy was taken ï¿½_ï¿½ Bitches.. DIN DINS TIME! \",\"morrisons here i come! \",\"@Kawaii_Jadee Why don\\u0027t you leave her a message? Or better yet, let me leave her one \\u0026gt; I hope you\\u0027re happy- this is my 300th update \",\"@Kawaii_Jadee Woooop! And I know  Mwuahaha. Another update tonight? I finally have time to read and review the rest of your story!  \\u0026lt;3\",\"@Kawaii_Jadee Tis okay..I sorted it now  I\\u0027m tryin to find that picture of the girl from my banner again, but my laptop deleted everythin\",\"@sophiaah unagi ;) good luck in your exam tomorrow  NIGHT ALL!\"]}\n"
     ]
    },
    {
     "name": "stderr",
     "output_type": "stream",
     "text": [
      " 20%|██        | 20/100 [00:05<00:19,  4.09it/s]"
     ]
    },
    {
     "name": "stdout",
     "output_type": "stream",
     "text": [
      "add:  ok\n",
      "{\"id\":595548,\"data\":[\"do mr. federmans homework heh so i can copy \"]}\n"
     ]
    },
    {
     "name": "stderr",
     "output_type": "stream",
     "text": [
      " 21%|██        | 21/100 [00:05<00:19,  3.98it/s]"
     ]
    },
    {
     "name": "stdout",
     "output_type": "stream",
     "text": [
      "add:  ok\n",
      "{\"id\":104193,\"data\":[\"@addersop I went to Creamfields 2 years ago, but it was full of pricks  The crowd at BF are just really friendly and sound.\",\"@AndyRileyish I dunno, but it wasn\\u0027t cream soda \",\"@jackfaulkner Oh, jealous. I can only get Iplayer  \",\"I made loads of mistakes typing a comment on @charltonbrooker\\u0027s column  I look likea  right idiot now. Damn enthusiasm.\",\"@PK_1 I can\\u0027t read it right now, I\\u0027m trying to get ready for Uni, and I\\u0027m late \",\"@cassiusaway In my direction, and from a great height. I\\u0027m now covered in pay day poo. \",\"@mattmaloney I don\\u0027t stalk people  I \\u0026quot;care\\u0026quot;.\",\"@mattmaloney  s\\u0027ok *shuffles feet*\",\"@DJbruce92 Told myself I wouldn\\u0027t play til I finished uni work. I had to uninstall it to keep me on track \",\"@pup218 But....it\\u0027d melt. Once I bonded with it I\\u0027d need years of therapy to get over the ordeal of finding my baby in a veg puddle \",\"@gleepface  Work is poop. Still, you\\u0027ve only got a couple of hours left, right?\",\"@jackfaulkner  Get on the smack. Does wonders for your pain.\",\"@jackfaulkner  Only trying to help.\",\"@xthemusic I promise I will  GOODBYE ANT...I WILL NEVA LUV AGEN\",\"Finishing the video. Fuck me, it\\u0027s so long \",\"I think I\\u0027ve forgotten to mention some people on my video \",\"@jackfaulkner I forgot all of those people \",\"@jackfaulkner Don\\u0027t have time - got work later \",\":O Looking through my old stuff and found a record from my old band! Well,a band that I was in for about a month. Ever heard of  ?\",\"@liamlager Noes has none of that  I wish I did though...I love those crunchy nut clusters.\",\"@liamlager  chin\",\"@gleepface Matt Bellarlly iz a nob \",\"@camiknickers At least you have a garden. JEALOUS \",\"@xthemusic  Just do what I\\u0027m doing - pretend the exams don\\u0027t exist for the day and go to the park ^__^\",\"@xthemusic  *small voice* fuck you Ant...\",\"@xthemusic  I hate the indusrty I long to work in.\",\"My favourite model has gone from ASOS.com  Now which clothes do I buy? That was the only way I knew! I hate shopping.\",\"@SoulIsTheGoal  Don\\u0027t remember. remember the Incredible Games though? Now THAT was CBBC worth watching.\",\"@mattmaloney Soz mate  Was just a joke...but I didn\\u0027t really know whether you had or not.\",\"@vivmondo I don\\u0027t wanna rip the Charlster off too much. I\\u0027m already morphing into his writing style   Thanks about the non-tool thing!\",\"@dj_lc  I bet! You\\u0027ll get yours though on your day off!]\",\" I\\u0027m too scared to go on holiday these days:  http://tinyurl.com/lkgtac Nightmare after nightmare of plane crashes. Sadface.\",\"@peteboov  Shame\",\"@AmberGamblerAV    URRRGHHHH KEEP THE PRESENTS If it means polystyrene I don\\u0027t want any of it \",\"@alexandergreen PUNTASTIC! haha I can\\u0027t think of anymore  lol\",\"@camiknickers  It\\u0027s true. Kill\\u0027em all, that\\u0027s what I say.\",\"@CTerry1985  Sorry\",\"@citra78  I used to be in a chiptune band lol\",\"@mattmaloney  but...nope, sorry. The sentiment is there, but I just can\\u0027t say it lol\",\"@mattmaloney I dunno, I hate change \",\"Patrick Wolf\\u0027s newest album has really disappointed me  I love him usually. Wind in the Wires is one of my most favourite albums. Shame.\",\"I\\u0027m afraid that when I put up my blog, I will get loads of abuse from racists \",\"@StanDevia I don\\u0027t understand  \",\"@xthemusic ....bonds are made using violence? Surely he\\u0027d just be scared of me? Maybe that\\u0027s the best I can hope for \",\"@mattmaloney \\u0026quot;We\\u0027re sorry, game play is currently unavailable\\u0026quot;  :\\u0027(\",\"@camiknickers I didn\\u0027t think of that. Is that true? It isn\\u0027t. Oh no.  My poor innocent cake.\",\"@thecraigmorris S\\u0027all gone  Waa! Was such a good plan!\",\"I forgot an entire paragraph  I\\u0027ll write it tomorrow and then remind you all to read it again.\",\"@mtrh Magic bus? mega bus has gone right up in price  Â£20 return? Whuttt?\",\"@xthemusic ...he grabbed some of the chicken (the best bit  ) and threw it to the ground in disgust. And then left.\",\"@thecraigmorris Noes like party ring \",\"@mattmaloney It looked FUCKING SCARY from where I was sat. I\\u0027m such a coward \",\"@xthemusic Urrrgh *shudders* \",\"@iamnotsteve  Maybe you could strike up a friendship! Offer him a cup of tea. Do it!\",\"@camiknickers Oh christ, I am such a cunt. I got that for a christmas present \",\"I don\\u0027t want a green picture  DOES THIS MAKE ME A TERRORIST?\",\"@Alex_Le_Trend I know, I know, I\\u0027m sorry  Had to change it cuz of peer pressure. So I got one with absinthe and a sexy fairy on for you.\",\"@jackfaulkner LOL FAIL (I am working in the evening  )\",\"@mattmaloney  Oh. This has made me sad.\",\"@xthemusic No....it is me and Jack dressing up and putting on pantomimes in episode format.  You caught us out.\",\"@charltonbrooker I already have 67 of those  LAME\",\"@thecraigmorris NO  They were nice well behaved kids with wool for hair. Don\\u0027t be mean.\",\"@camiknickers Oh no, smelly teacher fail \",\"@camiknickers  Still, free books though.\",\"@jackfaulkner  but lol at the same time.\",\"@xthemusic Nice idea...but won\\u0027t the cakes get squished in the post?  (although they\\u0027d probably look better that way ha)\",\"@SilkyBanana I just had one...and one turned into loads \",\"@KrystalSim Uncy Bri-Bri would definitely have a kagoul to lend me  I want my uncy bri-bri.\",\"@xthemusic WHY DON\\u0027T YOU SHUT THE H- yeah, that\\u0027s something I\\u0027ve been considering, actually. Bloody northern weather \",\"Only just getting my break now. They forgot about me \",\"@jackfaulkner It was BUSY AS FUCK  I\\u0027m still knackered. Still, FIN OV DA MONEYIS\",\"@WWDWD Oh no  I fainted in a clothes shop once when my mum jumped out of a rail of coats. I didn\\u0027t know she was in town. The shame \",\"@jackfaulkner Need the money  Anyway, I should have rang before 12 for sickwork, but I was sleeping off the ill, innit. Nevermind.\",\"@xthemusic Yeah, but I think I\\u0027m poorly as well as hungover, so it might be acceptable. I bumped my head \",\"@jackfaulkner I meant it was really hard to tal to people  Mean. I tried to clarify but it all went wrong.\",\"@xthemusic I am hereby giving credit to @peterepeater for showing me that tv show. It is funny and :O  in equal measure.\",\"@mattmaloney  Bad poorly times for the sick crew. We is da illist of da ill.\",\"@Bimbo_Butterkek OMG   I cannnn\\u0027t I have worrrrk   That looks ace though!\",\"@onoflalks I was one of them once \",\"Thanks for the word boosts guys, now, like i said to your mother last night... I\\u0027m going back in. \",\"@Pinklilycat Bacon sandwich with cream though? Ugh \",\"@CTerry1985 UH OH \",\"@jackfaulkner Ah, nevermind, it\\u0027s the thought that counts.  (Also quite predictable)\",\"@mattmaloney I like that naem. Andy calls me \\u0026quot;Roast Potates\\u0026quot; \",\"@xthemusic It was @onoflalks  Are you proud?\",\"@Vivmondo i is well good at music placement innit  should make cake movies for a living!\",\"@LondonW12 Haha awesome! I bet her gateaux was divine \",\"@RobertJohnTrott It would. So, um, thanks for following me! Who are you and what do you do etc? Tell me all \",\"Logistics is so summery. Mmmm \",\"@LondonW12 I don\\u0027t expect you to help at all, but thanks for the offer  Nice to know you got my back!\",\"@xthemusic Nighty night dear, good luck! You\\u0027ll do fine though, I\\u0027m fairly positive of it \",\"@rorambenjimouse Good luck \",\"@Slynky Aw, thanks! I\\u0027m going to have a look at yours now though, and I bet you\\u0027re wrong. \",\"@PK_1 Aw, thanks! \",\"@SoulIsTheGoal The more the merrier \",\"@xthemusic  *Double Team Idea* We wear tshirts with our names on. As a cool gimmick. But never refer to ourselves as those names.\",\"@xthemusic Yes...but....Cameron? I\\u0027m not doubting your beliefs, I\\u0027d just like you to explain please \",\"@mattmaloney I feel cheered up. Wow, talking works! Tanks! Hope you\\u0027re happy this morning \",\"@bobbychariot Welcome. I dropped my phone in orange juice, and it worked after three days in rice and on a sunny windowledge \",\"@camiknickers Hurray! I like all these special bits specially for me  That Takes the Biscuit: Katie rants for 10 seconds on anything\",\"@thecraigmorris @SoulIsTheGoal @jackfaulkner Nyaww, thanks guys  wish I had remembered to put it in the first time round. Nevermind!\",\"@mtrh Yeah, I was Pissed Off because I was in the middle of a blog, but my computer has pulled through  YAY!\",\"@liamlager I liked your entry, therefore it must have been good  Good luck!\",\"@steve_gray_ I\\u0027d have known where you were coming from, even if nobody else did \"]}\n"
     ]
    },
    {
     "name": "stderr",
     "output_type": "stream",
     "text": [
      " 22%|██▏       | 22/100 [00:05<00:19,  4.08it/s]"
     ]
    },
    {
     "name": "stdout",
     "output_type": "stream",
     "text": [
      "add:  ok\n",
      "{\"id\":687411,\"data\":[\"from today back to the boring routine of work and home \",\"Still trying to catch up iphone dev classes \",\"9 hours blackout in Karach \",\"iphone project development in full flow, thinking hard and trying to work hard too \"]}\n"
     ]
    },
    {
     "name": "stderr",
     "output_type": "stream",
     "text": [
      " 23%|██▎       | 23/100 [00:05<00:18,  4.16it/s]"
     ]
    },
    {
     "name": "stdout",
     "output_type": "stream",
     "text": [
      "add:  ok\n",
      "{\"id\":489985,\"data\":[\"So sad, the news about David Carradine! \"]}\n"
     ]
    },
    {
     "name": "stderr",
     "output_type": "stream",
     "text": [
      " 24%|██▍       | 24/100 [00:05<00:17,  4.27it/s]"
     ]
    },
    {
     "name": "stdout",
     "output_type": "stream",
     "text": [
      "add:  ok\n",
      "{\"id\":477131,\"data\":[\"Another day with an offsite team building...I\\u0027m all for comraderie, but this just means more work to do  in the P.M. \",\"REALLY tired - wish I had the energy to go out tonight, but just don\\u0027t know if that\\u0027s gonna happen... \",\"TV legend Ed McMahon dies at age 86 - so sad!  http://bit.ly/lAKus via @eonline\",\"@adamsigel You crack me up - YOU are my terrific banana \",\"@BostonTweet Matty in the Morning on Kiss 108 - the \\u0026quot;right now\\u0026quot; segment at 7:30 makes me feel better about my problems \",\"@JamiePappas - I\\u0027m going too! Thanks for letting me know about the Tweeetup - see you at E 2.0  http://twtvite.com/cvjjth #twtvite #e2ct\",\"Is Twitter the enemy (or do we just mock what we don\\u0027t understand)?   http://bit.ly/1kepu Good blog post - warning: over 140 characters \"]}\n"
     ]
    },
    {
     "name": "stderr",
     "output_type": "stream",
     "text": [
      " 25%|██▌       | 25/100 [00:06<00:17,  4.26it/s]"
     ]
    },
    {
     "name": "stdout",
     "output_type": "stream",
     "text": [
      "add:  ok\n",
      "{\"id\":317998,\"data\":[\"Hoping I graduate on time  sooo Many things to do so little time! I need to go into OVERDRIVE\",\"Soooo over this rollercoaster ride \",\"still up not studying i wana finish in the AM \",\"Wishes blackberry had as many apps as iphone! \",\"Ugh! This guy won\\u0027t let us LEAVE I am going TO LOSE IT! \",\"Boooreeedddd! Back to studying  up till 5am! (Not a problem)\",\"@robfetti http://twitpic.com/7otnb - Nuvo! Just cuz I never had it yet \",\"@DreeseyBaby what\\u0027s that ill see what dats bout! N my FAMU friends aint old enuff for the moon on saturdays  lol\",\"@Syncereatl like the clubs in MIAMI \",\"how do i update my status on uber twiiter does anyone know? \",\"OMG it was sooo HOT I just said forget the rest of my daddy gift! Lol  but I still LOVE HIM!\",\"Sum1 in let me know what\\u0027s up for tonight besides KING OF DIAMONDS \",\" I maybe in for tonight on my last real weekend home  mad I can\\u0027t turn off this location shit on ubber twitter\",\"I hate MIAMI DADE HIALEAH CAMPUS! Ugh! Soooo effing disorganized! Big ups to the North Campus though! Back to UF in 4 days \",\"I ammm sooooo HUNGRY  jeez! I guess my breakfast is wearing off! Pollo Tropical I\\u0027m on my WAY! \",\"Blah blah needs to open her book I will after CHEATERS! Motivation at a LEVEL 0! After cheaters it should be at a 80%! Lol \"]}\n"
     ]
    },
    {
     "name": "stderr",
     "output_type": "stream",
     "text": [
      " 26%|██▌       | 26/100 [00:06<00:17,  4.34it/s]"
     ]
    },
    {
     "name": "stdout",
     "output_type": "stream",
     "text": [
      "add:  ok\n",
      "{\"id\":714064,\"data\":[\"@Sheryl1983 hello! thnks 4adding me!  answer and i\\u0027ll add u!\",\"@McFreakk oohh.. thanks!! i think i did well on the 3 first, but the last 2 were a bit rubbish.. I think I\\u0027ll pass anyways  hw are u?\",\"@McFreakk yeess... sorry, I don\\u0027t have any habit hahah I\\u0027m just absorbing everything I read in english  I learn form u! ^^\",\"@Willemijn15 aawwwww he\\u0027s the best!! can I follow u? \",\"@Jooeeyy so, that was bad luck  a girl will see all your good things! ^^\"]}\n"
     ]
    },
    {
     "name": "stderr",
     "output_type": "stream",
     "text": [
      " 27%|██▋       | 27/100 [00:06<00:17,  4.26it/s]"
     ]
    },
    {
     "name": "stdout",
     "output_type": "stream",
     "text": [
      "add:  ok\n",
      "{\"id\":651494,\"data\":[\"Not too fond ogf Twitter and its navigation compated with Face Book. And the threads? It is like being stalked \"]}\n"
     ]
    },
    {
     "name": "stderr",
     "output_type": "stream",
     "text": [
      " 28%|██▊       | 28/100 [00:06<00:16,  4.28it/s]"
     ]
    },
    {
     "name": "stdout",
     "output_type": "stream",
     "text": [
      "add:  ok\n",
      "{\"id\":900971,\"data\":[\"@JordanNicholls History British Warfare paper  whats the point.\",\"wanted to see @mileycyrus so bad but its just too expensive   \",\"@dyan_x and I only bought a programme haha im saving money for my katy perry programme \\u0026amp; jonas brothers \\u0026amp; demi merchandise   SO EXCITED\"]}\n"
     ]
    },
    {
     "name": "stderr",
     "output_type": "stream",
     "text": [
      " 29%|██▉       | 29/100 [00:07<00:16,  4.37it/s]"
     ]
    },
    {
     "name": "stdout",
     "output_type": "stream",
     "text": [
      "add:  ok\n",
      "{\"id\":799767,\"data\":[\"ahh p***i~ aku ada exam on 3rd and 4th june \",\"owh no school time  hopefully somebody will rip it ;)\",\"everytime aku liat \\u0027terminator salvation (trailer)\\u0027 it remind me of tscc... \",\"can\\u0027t chat with @mitchelmusso since i have to go to school now  http://tinyurl.com/mf88dz\",\"@ToriMartin1 wow you guys are lucky because having summer vacation... is it 3 mths? we have holiday for only 2 weeks this june \",\"@mitchelmusso i wish i could come \",\"dang it, i thought holiday start hari jumaat, rupanya hari ahad \",\"@spencerpratt Hey Spencer, greetings fan from Brunei \",\"ooo im watching \\u0027house\\u0027 while doing my homework, and I saw LUCAS TILL \\u0026amp; meaghan martin, hahah  didnt know they were there\",\"@buhrayaaan lol thanks \",\"@MandyyJirouxx good night \",\"@theDebbyRyan good morning, hope you have a great day \",\"@drewseeley lol its Mitchel without double L. anyway i hope you guys have fun doing the performance \",\"just awake from my nap, and now lunch time \",\"@mitchelmusso and i love \\u0027Us Against The World\\u0027  who\\u0027s the lucky girl singing with you? \",\"@lelandgrant hey good morning. Hope you have a great day today \",\"goodnight \"]}\n"
     ]
    },
    {
     "name": "stderr",
     "output_type": "stream",
     "text": [
      " 30%|███       | 30/100 [00:07<00:15,  4.40it/s]"
     ]
    },
    {
     "name": "stdout",
     "output_type": "stream",
     "text": [
      "add:  ok\n",
      "{\"id\":587517,\"data\":[\"Aren\\u0027t pain killers supposed to take the pain anyway? AT LEAST the physical pain?  more chicken broth..yay\",\"Claudia has recieved the longest message I\\u0027ve ever sent on my iPhone. And I miss Chelsea! \",\"I spent 7 hours (all night) telling Selena about my love life starting from February. I\\u0027m a mess. I\\u0027m sorry for keeping you up Selena \",\"@aaronrgillespie I love how you practically worship john  it\\u0027s okay, I worship the both of you.\"]}\n"
     ]
    },
    {
     "name": "stderr",
     "output_type": "stream",
     "text": [
      " 31%|███       | 31/100 [00:07<00:15,  4.51it/s]"
     ]
    },
    {
     "name": "stdout",
     "output_type": "stream",
     "text": [
      "add:  ok\n",
      "{\"id\":862188,\"data\":[\"NIGHT, this conludes my last study session of grade 8 ! YES! WE\\u0027RE DONE. can\\u0027t wait for tommorow.. math exam  but hanging out with shelby!\",\"wow, mmva\\u0027s were AMAZING last night.. , wish I was there, too bad I enjoyed it from my living room \",\"RISE AND SHIINE!  ,, science exaam 12:30pm... 23 daays until idol!\",\"turning in FINALLY after a long day of studying, exams, and frickin being bored out of my mind.. .nighty nighht \"]}\n"
     ]
    },
    {
     "name": "stderr",
     "output_type": "stream",
     "text": [
      " 32%|███▏      | 32/100 [00:07<00:16,  4.19it/s]"
     ]
    },
    {
     "name": "stdout",
     "output_type": "stream",
     "text": [
      "add:  ok\n",
      "{\"id\":207303,\"data\":[\"Tomoro im headed to Chi....tho i wish i cud stay in ATL wit my baby--i jus wanna b here for fathers day \"]}\n"
     ]
    },
    {
     "name": "stderr",
     "output_type": "stream",
     "text": [
      " 33%|███▎      | 33/100 [00:08<00:16,  4.12it/s]"
     ]
    },
    {
     "name": "stdout",
     "output_type": "stream",
     "text": [
      "add:  ok\n",
      "{\"id\":99996,\"data\":[\"Happy anniversary to myself and my hair. Its been exactly one year since I hacked it all off. A year later and its still the same length \",\"Hate work. Johnny depp is in chi town tonight and I\\u0027m missing all the action \",\"@smileforami mmm best lunch ever! Fuji apples, peanut butter, and saliva mystery cookies \"]}\n"
     ]
    },
    {
     "name": "stderr",
     "output_type": "stream",
     "text": [
      " 34%|███▍      | 34/100 [00:08<00:15,  4.20it/s]"
     ]
    },
    {
     "name": "stdout",
     "output_type": "stream",
     "text": [
      "add:  ok\n",
      "{\"id\":78206,\"data\":[\"@macappstorm only if i had a paypal account  -- payoneer cant work?\",\"@jasdeep thats why! i know formal punjabi only. in the beginning i could only read n not speak, the fruits of living in a city \",\"@jasdeep @g0tti @sepiaverse often it gets difficult for me to follow a conversation  [twitter, do something about it!]\",\"Off to some biking. 9th avenue, here I come. 110km biker. God, I need more speed \",\"@carolina75011 unfortunately, not yet \",\"just bought \\u0027Collected Short Stories of Mumtaz Mufti\\u0027 (Muftianay)... Yes, apart from Shahabism he was a prolific fiction writer too \",\"@sanasaleem congratulations \",\"just woke up, it sounds like it\\u0027s raining outside... Yes! It is \",\"@s4sukhdeep i get the same reaction for sufi poetry. people want me to call it \\u0027kalam\\u0027 specifically \",\"@anumvighio @harisn and thats because of you haris, you fill it with crap, right? (+ keep 1000s of sms) \",\"@jasdeep haha... so you did watch the last episode \",\"@jadoon88 yeh bhi sahi he. ur identity is being a programmer \",\"@sheysrebellion yup, pretty sure \",\"@orezavi a \\u0027company\\u0027 cant be benign by nature \",\"@mharis do a shift+f5 once please \",\"@ReallyVirtual haha, aap bhi kuch bool lain fellow baba jee \"]}\n"
     ]
    },
    {
     "name": "stderr",
     "output_type": "stream",
     "text": [
      " 35%|███▌      | 35/100 [00:08<00:15,  4.29it/s]"
     ]
    },
    {
     "name": "stdout",
     "output_type": "stream",
     "text": [
      "add:  ok\n",
      "{\"id\":256608,\"data\":[\"@AKGovSarahPalin Have a great week Sarah \",\"Today was a great day  Rather Exhausting. In bed, good night!\",\"@RalphReagan Thank you! My eye is still in a lot of pain, Planning on going to the eye doctor. Aw haha, the wife got to ya \",\"I love yoga.. I think I\\u0027m addicted :X Summer school tomorrow morning, then looking forward to more yoga \"]}\n"
     ]
    },
    {
     "name": "stderr",
     "output_type": "stream",
     "text": [
      " 36%|███▌      | 36/100 [00:08<00:15,  4.12it/s]"
     ]
    },
    {
     "name": "stdout",
     "output_type": "stream",
     "text": [
      "add:  ok\n",
      "{\"id\":191651,\"data\":[\"So from this moment foward, imma have to spend my money wisely. No dress and shoe shopping every week. No more pigging out @ my fav rest. \",\"uugh..i wish my toes weren\\u0027t still painted green apple \",\"Headin back.. I missed Shira nd Star..wish I stayed longer \",\"I miss my mom! She went to DC \",\"I soo deserve this trip. This whole semester has been a run-a-round... I just wanna be sucessful \",\"@TheNotoriousJEN damn but its only 1 right? I don\\u0027t wanna go by myself \",\"I wish I knew how to swim  .... I\\u0027m definitely aim\\u0027n to learn this weekend! http://mypict.me/4vlJ\",\"@TheNotoriousJEN It\\u0027s a lil family BBQ on morningside and 122nd.. Your welcome to come \",\"@TheNotoriousJEN lmao @ u dead going off. It\\u0027s in Harlem Honey  LoL\",\"@KatKardash we should all get 2gether, get intoxicated nd bug out tho...that\\u0027ll b fun \",\"I said I be on some g shit, I be on some g shit..check them other girls for louie shopping spree shit. \"]}\n"
     ]
    },
    {
     "name": "stderr",
     "output_type": "stream",
     "text": [
      " 37%|███▋      | 37/100 [00:09<00:15,  4.15it/s]"
     ]
    },
    {
     "name": "stdout",
     "output_type": "stream",
     "text": [
      "add:  ok\n",
      "{\"id\":606570,\"data\":[\"@thelalasong pick up your phoneeee! \",\"She\\u0027s too pretty huhuhu \",\"Next month should be a wonderful month. can\\u0027t wait to see the dolls \",\"I love you more and more \",\"enjoying wifiiiiiiiii \",\"Daddy just bought a new toy \",\"@ochiewz just finish read your message. Can\\u0027t wait! Love you love you love you \"]}\n"
     ]
    },
    {
     "name": "stderr",
     "output_type": "stream",
     "text": [
      " 38%|███▊      | 38/100 [00:09<00:14,  4.21it/s]"
     ]
    },
    {
     "name": "stdout",
     "output_type": "stream",
     "text": [
      "add:  ok\n",
      "{\"id\":552531,\"data\":[\"I can\\u0027t believe how quickly time has gone. \",\"Belting it out on SingStar has to be one of my favourite things to do. \",\"yes! NORWAY WON! hahaaa...fairytale! \",\"Happy Birthday Daddy! \",\"I\\u0027M SO RIDICULOUSLY EXCITED! \"]}\n"
     ]
    },
    {
     "name": "stderr",
     "output_type": "stream",
     "text": [
      " 39%|███▉      | 39/100 [00:09<00:14,  4.26it/s]"
     ]
    },
    {
     "name": "stdout",
     "output_type": "stream",
     "text": [
      "add:  ok\n",
      "{\"id\":551592,\"data\":[\"@davidlebovitz just thought of making ice cream and your site\\u0027s down! \",\"@_wendy_r_ given myself a limit of 3 books a month. here they are almost double the price  you are tempting me to click purchase rightaway\",\"@PinchMySalt oh lucky you! you have strawberry season now  i miss strawberries!\",\"@aprna at least you\\u0027ve got clouds to anticipate rains! We\\u0027ve got nothing \",\"Wondeing why my casatiello was so dense while everyone is happily enjoying theirs \",\"@delphiz can\\u0027t log in to vite.   will have to email them\",\"@gourmeted i didn\\u0027t make cos I was one mango short but I was to use fresh mangoes. They\\u0027re in season \",\"@vindee uh oh! If my mum gets mangoes today I will bake it tomorrow morning! \",\"@Eat_Real you call him an eating machine! hehehe I will be delighted to have you over \",\"@pigpigscorner  oh and i forgot the main part- congratualtions on your wedding  where is the honeymoon?\",\"@kapilb oh optician! how did i not think of that. thanks \",\"@chezus1 I\\u0027m enjoying the summer mangoes and jamuns here. It\\u0027s really hot but these two things make the summer better  need to bake more\",\"@ModernFoodie pls do, if it\\u0027s not too much of a trouble! purplefoodie@gmail.com thanks a bunch \",\"@ne1else i was sweating it out waiting for my oven to reach 500C - seemed like forever. Used my oven thermometer for the first time \",\"@djmallu haha awesome!  i think you should use it within a month of opening. if you\\u0027ve opened it and want to use it much later then freeze\",\"@plutosangel i have rataouille as my wallpaper ever since  i saw the movie. i love the attention to detail in the movie. My fave too! \",\"@arjwiz let me be more clear. did you hear what @vindee just said? \",\"@rknap14 thanks  cook again? what are you caught up with?\",\"@foxnotes you\\u0027re good in my books for saying that \",\"@arjwiz no i don\\u0027t think so.i think he retweeted that. don\\u0027t get too jealous \"]}\n"
     ]
    },
    {
     "name": "stderr",
     "output_type": "stream",
     "text": [
      " 40%|████      | 40/100 [00:09<00:14,  4.16it/s]"
     ]
    },
    {
     "name": "stdout",
     "output_type": "stream",
     "text": [
      "add:  ok\n",
      "{\"id\":947571,\"data\":[\"Good or bad news 1st? OK, bad - I\\u0027ve worked 100 hours in 7 days  UGH! Good - I\\u0027m going back to school  More paper, more options LOL\",\"Good or bad news 1st? OK, bad - I\\u0027ve worked 100 hours in 7 days  UGH! Good - I\\u0027m going back to school  More paper, more options LOL\"]}\n"
     ]
    },
    {
     "name": "stderr",
     "output_type": "stream",
     "text": [
      " 41%|████      | 41/100 [00:09<00:13,  4.26it/s]"
     ]
    },
    {
     "name": "stdout",
     "output_type": "stream",
     "text": [
      "add:  ok\n",
      "{\"id\":570752,\"data\":[\"@nikkluv  there is no greater honor than this. thank you, THANK YOU. i\\u0027ll guard them with my life.\",\"@the_sandra Ahh it was just on, unf  lol, im such a dork !\",\"@reverendgodless Thanks  im SOOO sick. UGHHHH. i know u are too, GET BETTER SOON! this is no fun!\",\"@misanthropicjo @jakeeooh Thanks so much ladies  ugggggh. \\u0026lt;3\",\"im broken  aka \\u0027temporarily in need of maintenance\\u0027\",\"@marano2288 Meee tooo  scary hectic places that move WAY too slow, yet way too fast. odd place that is.!\",\"@Sammeroni OMFG WHAT, i LOVEEE that show. lmao they cancelled it here and they dont give reruns!  fml. lol\",\"@misanthropicjo I heard it was getting awesome reviews! perhaps i\\u0027ll see it!  how are you?\"]}\n"
     ]
    },
    {
     "name": "stderr",
     "output_type": "stream",
     "text": [
      " 42%|████▏     | 42/100 [00:10<00:13,  4.23it/s]"
     ]
    },
    {
     "name": "stdout",
     "output_type": "stream",
     "text": [
      "add:  ok\n",
      "{\"id\":156047,\"data\":[\"Tired as fuuuuuuuck. Trying to get ready for this trip \"]}\n"
     ]
    },
    {
     "name": "stderr",
     "output_type": "stream",
     "text": [
      " 43%|████▎     | 43/100 [00:10<00:13,  4.18it/s]"
     ]
    },
    {
     "name": "stdout",
     "output_type": "stream",
     "text": [
      "add:  ok\n",
      "{\"id\":190953,\"data\":[\"@jmarie7481 OH NO!! that\\u0027s horrible! \",\"Sad my lovely weekend is coming to an end!  back to work tomm!\",\"aww I\\u0027m broke this week! No more shopping for me, no more packages in the mail!  How can I get freebies? lol!\",\"Off to work I have to go \",\"I hate workin sundays! It feels like a waste of the day and its usually slow! \",\"Happy Father\\u0027s Day to all the Fathers!! I miss mine! \",\"Yay!! Hi to my 52 followers on my blog!  www.Latina8184@blogspot.com\",\"Woohoo! Got my NYX box today!!! Expect a new blog post soon!! \",\"Headed home from work... So tired!! \",\"Happy saturday! \",\"@jmarie7481 aww thanks!! \",\"@iheart2style oh hi!  I\\u0027m good thanks! Had a long wknd! Lol. How was yours?\"]}\n"
     ]
    },
    {
     "name": "stderr",
     "output_type": "stream",
     "text": [
      " 44%|████▍     | 44/100 [00:10<00:13,  4.20it/s]"
     ]
    },
    {
     "name": "stdout",
     "output_type": "stream",
     "text": [
      "add:  ok\n",
      "{\"id\":971122,\"data\":[\"@kaylynbeda that phi delt...he graduated and went back home to buffalo \"]}\n"
     ]
    },
    {
     "name": "stderr",
     "output_type": "stream",
     "text": [
      " 45%|████▌     | 45/100 [00:10<00:13,  4.21it/s]"
     ]
    },
    {
     "name": "stdout",
     "output_type": "stream",
     "text": [
      "add:  ok\n",
      "{\"id\":745948,\"data\":[\"had the worst 1st day ever!!! \",\"@chumpee halaaa.  ibigay ko nalang kay kuya emar sa saturday or sunday.\",\"darn it. i cant access turbonick. its the only place i cant watch drake \\u0026amp; josh.  imma try youtube.\",\"@chumpee psychology! 8D but there\\u0027s no psychology @ up-lb. \",\"aww. my mom left already.  she\\u0027ll be back on wednesday night ... w/ my dad!!\",\"i wanna see my mommy and my daddy. \"]}\n"
     ]
    },
    {
     "name": "stderr",
     "output_type": "stream",
     "text": [
      " 46%|████▌     | 46/100 [00:11<00:12,  4.32it/s]"
     ]
    },
    {
     "name": "stdout",
     "output_type": "stream",
     "text": [
      "add:  ok\n",
      "{\"id\":830749,\"data\":[\"@E_L_E_V_E_N i cant believe u got miley cyrus ticket  im sooo jealous \",\"@Jonasbrothers one more date in ireland PLEASE! \"]}\n"
     ]
    },
    {
     "name": "stderr",
     "output_type": "stream",
     "text": [
      " 47%|████▋     | 47/100 [00:11<00:12,  4.34it/s]"
     ]
    },
    {
     "name": "stdout",
     "output_type": "stream",
     "text": [
      "add:  ok\n",
      "{\"id\":670072,\"data\":[\"@srta_nanda I really would like to, but i cant \",\"#jonas-beforethestorm is beautiful and a little sad \",\"#jonas-beforethestorm is beautiful and a bit sad \",\"#jonas-turnright is beautiful and the guitars with the violins are kinda sad   love it.\",\"@xxVINICIUSxx obg pelo follow friday \",\"update #1000! uhull  #twittadainÃºtil\",\"@mileycyrus we love u 2 miley! cant wait to see u here in brazil!  you\\u0027re amazing! x\",\"@Jonasbrothers come back to Brazil! i love u guys so much! cant wait to have the new record in my hands  9 days!\",\"@billyraycyrus brazil loves u billy! come visit us \",\"Just voted in Teen Choice Awards. @mileycyrus, @jonasbrothers \\u0026amp;\\u0026amp; @ddlovato were my favorite. love you \"]}\n"
     ]
    },
    {
     "name": "stderr",
     "output_type": "stream",
     "text": [
      " 48%|████▊     | 48/100 [00:11<00:12,  4.18it/s]"
     ]
    },
    {
     "name": "stdout",
     "output_type": "stream",
     "text": [
      "add:  ok\n",
      "{\"id\":677233,\"data\":[\"My mom is snoring loud and it\\u0027s hard to sleep \",\"Philip went into queer Anthony\\u0027s and didn\\u0027t come out, so I went home. Forget him \",\"Doing the dishwasher \",\"@Shadow_HFlame You\\u0027re SOOO lucky The Sims 3 works on your computer... I bought it for nothing \",\"Unloading the dishwasher \"]}\n"
     ]
    },
    {
     "name": "stderr",
     "output_type": "stream",
     "text": [
      " 49%|████▉     | 49/100 [00:11<00:12,  4.25it/s]"
     ]
    },
    {
     "name": "stdout",
     "output_type": "stream",
     "text": [
      "add:  ok\n",
      "{\"id\":12120,\"data\":[\" secretly fighting over boys , secretly Jealous of there \\u0027flirting\\u0027 .. Hmm , i\\u0027m sick of it  and i can\\u0027t go any longer. Sorry hun. . .\",\" only if u had service on ur cell these days wont be so looong! i miss u already. \",\"i miss u already...  16 days ... hopefully!\",\"13 days!.. right now im missing u   oh well u\\u0027ll be back soon enough.. haha hope ur having fun.\"]}\n"
     ]
    },
    {
     "name": "stderr",
     "output_type": "stream",
     "text": [
      " 50%|█████     | 50/100 [00:12<00:11,  4.34it/s]"
     ]
    },
    {
     "name": "stdout",
     "output_type": "stream",
     "text": [
      "add:  ok\n",
      "{\"id\":567780,\"data\":[\"@ArtD303 I know \",\"I had no idea there was a Panda Express in the Freehold Mall! I want it \"]}\n"
     ]
    },
    {
     "name": "stderr",
     "output_type": "stream",
     "text": [
      " 51%|█████     | 51/100 [00:12<00:11,  4.39it/s]"
     ]
    },
    {
     "name": "stdout",
     "output_type": "stream",
     "text": [
      "add:  ok\n",
      "{\"id\":282669,\"data\":[\"@marsarmy There is were im having my prob with.I cnt seem to log in.Ive treid askin every1 for help.But no 1 does LOL  but thn im trying..\",\"I am someones Mixed tape too \",\"@30SECONDSTOMARS yipppee atleast THNKS for tht!!! \",\"@wendyadams123 huh?wht does tht mean ?  #marsiscoming #marsiscoming #marsiscoming #marsiscoming #marsiscoming #marsiscoming\",\"@TheMarsFactory There u go.You got ure own #followfriday now!! lol Thnks a loot  Ure great too haha always updating us mny cool stuff \",\"@fallenfrommars haha dont worry as i said its the truth i felt it lol \",\"@fallenfrommars ahh nahh dw ill keep it on stand by itll be done by morning once its done ill send u the link thn u can download it \",\"@fallenfrommars 24 mb done yet \",\"@fallenfrommars Sure hah dont worry  if only iwas near u it could have been easy lol u know USBs?? haha\",\"@wendyadams123 hah nothing much wendy just trying to upload mars @roack am ring (HQ) for a friend \"]}\n"
     ]
    },
    {
     "name": "stderr",
     "output_type": "stream",
     "text": [
      " 52%|█████▏    | 52/100 [00:12<00:11,  4.34it/s]"
     ]
    },
    {
     "name": "stdout",
     "output_type": "stream",
     "text": [
      "add:  ok\n",
      "{\"id\":890867,\"data\":[\"Holy cow. I feel like shxiet!  stomach flu?  maybe!\",\"Weekends are too short.  i hope this week goes by quick!\",\"I\\u0027m so sleepy  but i can\\u0027t sleep! I have to watch my teleseryessss\",\"I\\u0027m so mad at my stupid back. It wakes me up at nightt cuz it hurts  i just wanna chop it off! Dangit!\",\"Not plucking/threading my eyebrows for this whole summer, i freaking made it thick. I don\\u0027t wanna go back to the past! Lol! Nasty. \",\"Best, shut up with games, or at least stop playing; i hear the controller dudes.  and talk to me you ugly booger \",\" went to sleep early  now i\\u0027m awake. Ugh.\",\"Oh my ouchie! My back    maybe this is the reason i woke up!\",\"@janey_julian oh that i can\\u0027t do. I wake up at freaking 6 or 7  it\\u0027s not fair!! Lol. I guess i can\\u0027t be hardcore! Waaah!\",\"@theresababy dang it, it makes me tired even more sometimes. I had to wash so it can be soft. But omg, you scared me earlier!  \",\"My theory : lakers , cleaveland , or celtics will win it this year  as for now me and the bestest go for King James! Cuz our Nash isn\\u0027 ...\",\"Wow. I\\u0027m energized. Wtf. Haha. Good morning  \",\"Who\\u0027s happy! I\\u0027m happy   hahaha. Wow. Hyper.\"]}\n"
     ]
    },
    {
     "name": "stderr",
     "output_type": "stream",
     "text": [
      " 53%|█████▎    | 53/100 [00:12<00:10,  4.39it/s]"
     ]
    },
    {
     "name": "stdout",
     "output_type": "stream",
     "text": [
      "add:  ok\n",
      "{\"id\":346497,\"data\":[\"@michellewegner I know, it takes a while to develope    I really like sad movies though, I thought it was good but it did not do real  ...\",\"@michellewegner I know, it takes a while to develope  sorry. I liked it though. I tend to like sad movies\",\"@marklwaltz they will usually offer you something to drink while you wait....so ashamed that I actually know that \"]}\n"
     ]
    },
    {
     "name": "stderr",
     "output_type": "stream",
     "text": [
      " 54%|█████▍    | 54/100 [00:13<00:10,  4.43it/s]"
     ]
    },
    {
     "name": "stdout",
     "output_type": "stream",
     "text": [
      "add:  ok\n",
      "{\"id\":410585,\"data\":[\"not tired but i know i have to go to sleep \"]}\n"
     ]
    },
    {
     "name": "stderr",
     "output_type": "stream",
     "text": [
      " 55%|█████▌    | 55/100 [00:13<00:09,  4.51it/s]"
     ]
    },
    {
     "name": "stdout",
     "output_type": "stream",
     "text": [
      "add:  ok\n",
      "{\"id\":161715,\"data\":[\"is Around the House for a Bitt, Then Out with My Girlls for the Nighht  Cell It \\u0026lt;3\",\"is Around the Housee, Then to Gettysburg withh My Girrrls for the Nigghhht  Get at Me \\u0026lt;3\",\"is bk in town, great time tonight, guess now going to Adams \"]}\n"
     ]
    },
    {
     "name": "stderr",
     "output_type": "stream",
     "text": [
      " 56%|█████▌    | 56/100 [00:13<00:10,  4.25it/s]"
     ]
    },
    {
     "name": "stdout",
     "output_type": "stream",
     "text": [
      "add:  ok\n",
      "{\"id\":983006,\"data\":[\"off 2 work in a bit....i hate the rain \",\"@peterfacinelli u keep on going up and going down \",\"just got back from Mae concert in NYC...it was AMAZING  !!!\",\"@adammshankman hope u have a good time \"]}\n"
     ]
    },
    {
     "name": "stderr",
     "output_type": "stream",
     "text": [
      " 57%|█████▋    | 57/100 [00:13<00:09,  4.38it/s]"
     ]
    },
    {
     "name": "stdout",
     "output_type": "stream",
     "text": [
      "add:  ok\n",
      "{\"id\":642875,\"data\":[\"i hope my morning show doesn\\u0027t get cancelled! \"]}\n"
     ]
    },
    {
     "name": "stderr",
     "output_type": "stream",
     "text": [
      " 58%|█████▊    | 58/100 [00:13<00:09,  4.52it/s]"
     ]
    },
    {
     "name": "stdout",
     "output_type": "stream",
     "text": [
      "add:  ok\n",
      "{\"id\":839251,\"data\":[\"@MadisonThomson She was absolutely fantastic- diversity were on the same level as her though and it had to be one of them \",\"Gaaaaa stupid MTV... its on MTV One at 9pm Monday.... POO!!! I don\\u0027t have MTV and will know all the winners by then anyway! \",\"@MTV fave moment would have to be when I found out I couldn\\u0027t watch it until Monday 9pm BST... kinda unfair on us in europe mtv.. \",\"OMG How did BNP get 52700 votes in just the North east... sickening... \",\"@Laienne Totally agree with you, I can\\u0027t believe they have so much votes already in just the North East.. \",\"@CaroleMyers For the Susan Boyle poll I would watch TV special \",\"@SkyandZimba Hello  how are you sweetie??\",\"@Pinky_Pinkerton good  messing with my new phone hehe how are you?\"]}\n"
     ]
    },
    {
     "name": "stderr",
     "output_type": "stream",
     "text": [
      " 59%|█████▉    | 59/100 [00:14<00:09,  4.35it/s]"
     ]
    },
    {
     "name": "stdout",
     "output_type": "stream",
     "text": [
      "add:  ok\n",
      "{\"id\":691267,\"data\":[\"@tee_tuhm I\\u0027m so bummed I missed it! I went home for the weekend  I bet it was amazing!\"]}\n"
     ]
    },
    {
     "name": "stderr",
     "output_type": "stream",
     "text": [
      " 60%|██████    | 60/100 [00:14<00:09,  4.33it/s]"
     ]
    },
    {
     "name": "stdout",
     "output_type": "stream",
     "text": [
      "add:  ok\n",
      "{\"id\":147464,\"data\":[\"don\\u0027t know why some people take RSS for Ku Klux Klan, I pity them \",\"when i take work as work, I fail ! \",\"#Hyderabad #Flex #Camp http://groups.adobe.com/posts/93d30e01fe , wondering when new delhi will host one \",\"left my pen at home \",\"@RMantri ur ff is set to private can\\u0027t reed anything \",\"oops, having some problemsrunning flex sdk, something wrong with jvm \",\"said something to a co-worker(a junior) that may shook his confidence, feeling #guilty \",\"few people asked me for help in forums on something(tech related) I was doing more than a year ago \\u0026amp; I ignored their request, too bad \",\"how about throwing a shoe wrapped in #pinkchaddi at renuka chaudhary \",\"@ShivaniRamaiah so that\\u0027s why it occured to me that you might be knowing some school in delhi \",\"its gives me pleasure to spend time with my grandmother \\u0026amp; to give her a foot massage is a heavenly exp., for a while I forget everything \",\"phew, completed the CSS/XHTML for a yoga site, feeling satisfied that I contributed something to yoga, that I love so much \"]}\n"
     ]
    },
    {
     "name": "stderr",
     "output_type": "stream",
     "text": [
      " 61%|██████    | 61/100 [00:14<00:09,  4.27it/s]"
     ]
    },
    {
     "name": "stdout",
     "output_type": "stream",
     "text": [
      "add:  ok\n",
      "{\"id\":607013,\"data\":[\"Backing up my iTunes it\\u0027s taking ages \"]}\n"
     ]
    },
    {
     "name": "stderr",
     "output_type": "stream",
     "text": [
      " 62%|██████▏   | 62/100 [00:14<00:08,  4.32it/s]"
     ]
    },
    {
     "name": "stdout",
     "output_type": "stream",
     "text": [
      "add:  ok\n",
      "{\"id\":746083,\"data\":[\"Survived the dentist  no cavities, hehe\",\"What better way to wake up then with chocolate milk and animal crackers \"]}\n"
     ]
    },
    {
     "name": "stderr",
     "output_type": "stream",
     "text": [
      " 63%|██████▎   | 63/100 [00:15<00:08,  4.30it/s]"
     ]
    },
    {
     "name": "stdout",
     "output_type": "stream",
     "text": [
      "add:  ok\n",
      "{\"id\":577403,\"data\":[\"Doing some laundry before work.... It\\u0027s a beautiful day and I can\\u0027t enjoy it \",\"Getting ready for work.... I leave in about 30 mins but I have to wait on my ride  Not driving sucks but I can\\u0027t afford it anyway...\",\"@XleanneXlethalX sorry to hear about ur hayfever   I hope your doing ok!\",\"@Tanveer_  my forum name is shayrenee17. I just signed up like 4 days ago  I started a topic in the New People section : Howdy! lol\",\"@XleanneXlethalX  o ok. I like when it rains  Where do you live?\",\"@jOANNAxeLAiNe your welcome lol  \\u0026lt;*Shay*\\u0026gt;\",\"@jOANNAxeLAiNe well i hope ur friend gets off work soon so u can have it back  \\u0026lt;*Shay*\\u0026gt;\"]}\n"
     ]
    },
    {
     "name": "stderr",
     "output_type": "stream",
     "text": [
      " 64%|██████▍   | 64/100 [00:15<00:08,  4.21it/s]"
     ]
    },
    {
     "name": "stdout",
     "output_type": "stream",
     "text": [
      "add:  ok\n",
      "{\"id\":478185,\"data\":[\"I just kind of realized....... \"]}\n"
     ]
    },
    {
     "name": "stderr",
     "output_type": "stream",
     "text": [
      " 65%|██████▌   | 65/100 [00:15<00:08,  4.31it/s]"
     ]
    },
    {
     "name": "stdout",
     "output_type": "stream",
     "text": [
      "add:  ok\n",
      "{\"id\":495935,\"data\":[\"Gosh dangit! I-5 is dead stop too. Poo. \"]}\n"
     ]
    },
    {
     "name": "stderr",
     "output_type": "stream",
     "text": [
      " 66%|██████▌   | 66/100 [00:15<00:07,  4.43it/s]"
     ]
    },
    {
     "name": "stdout",
     "output_type": "stream",
     "text": [
      "add:  ok\n",
      "{\"id\":54406,\"data\":[\"kinda sad the hills is going off monday \",\"gone out to eat. taping the last hills episode ever \",\"graduation just ended. suprised i haven\\u0027t started crying yet \",\"just got home. back to my boring life \",\"home from vbs after ethan almost fell all the roof haha. bored now \",\"of course i start being early the week before school\\u0027s out. not that it matters anymore! \"]}\n"
     ]
    },
    {
     "name": "stderr",
     "output_type": "stream",
     "text": [
      " 67%|██████▋   | 67/100 [00:15<00:07,  4.48it/s]"
     ]
    },
    {
     "name": "stdout",
     "output_type": "stream",
     "text": [
      "add:  ok\n",
      "{\"id\":420291,\"data\":[\"taking a nap.. I need a cuddle buddy  hmmm @tross24? hehe\",\"showeeer, getting ready, running errands.. should be with @tross24 \",\"I\\u0027m incredibly happy right now! I have 96% in English... \\u0026amp; that is without my final paper.. Which was really good lol  I\\u0027m pumped!\",\"@joshwiggins3 mmmm josh knows whats up \",\"@joshwiggins3 awww!! umm sooonnn!!! lol we\\u0027ll figure something out \"]}\n"
     ]
    },
    {
     "name": "stderr",
     "output_type": "stream",
     "text": [
      " 68%|██████▊   | 68/100 [00:16<00:07,  4.36it/s]"
     ]
    },
    {
     "name": "stdout",
     "output_type": "stream",
     "text": [
      "add:  ok\n",
      "{\"id\":771483,\"data\":[\"i miss my boyfriendddd  \\u0026quot;so come feel this magic ive been feelin since i met you cant help it if theres no one else mm i cant help myself\\u0026quot;\",\"Wishing I was on my train already but its nowhere to be found \",\"Woke up in a good mood today \"]}\n"
     ]
    },
    {
     "name": "stderr",
     "output_type": "stream",
     "text": [
      " 69%|██████▉   | 69/100 [00:16<00:07,  4.21it/s]"
     ]
    },
    {
     "name": "stdout",
     "output_type": "stream",
     "text": [
      "add:  ok\n",
      "{\"id\":279902,\"data\":[\"isPlayer Has Died! Sorry \",\"isPlayer Has Died! Sorry \",\"isPlayer Has Died! Sorry \",\"isPlayer Has Died! Sorry \",\"isPlayer Has Died! Sorry \",\"isPlayer Has Died! Sorry \",\"isPlayer Has Died! Sorry \",\"isPlayer Has Died! Sorry \",\"isPlayer Has Died! Sorry \",\"isPlayer Has Died! Sorry \",\"isPlayer Has Died! Sorry \",\"isPlayer Has Died! Sorry \",\"isPlayer Has Died! Sorry \",\"isPlayer Has Died! Sorry \",\"isPlayer Has Died! Sorry \",\"isPlayer Has Died! Sorry \",\"isPlayer Has Died! Sorry \",\"isPlayer Has Died! Sorry \",\"isPlayer Has Died! Sorry \",\"isPlayer Has Died! Sorry \",\"isPlayer Has Died! Sorry \",\"isPlayer Has Died! Sorry \",\"isPlayer Has Died! Sorry \",\"isPlayer Has Died! Sorry \",\"isPlayer Has Died! Sorry \",\"isPlayer Has Died! Sorry \",\"isPlayer Has Died! Sorry \",\"isPlayer Has Died! Sorry \",\"isPlayer Has Died! Sorry \",\"isPlayer Has Died! Sorry \",\"isPlayer Has Died! Sorry \",\"isPlayer Has Died! Sorry \",\"isPlayer Has Died! Sorry \",\"isPlayer Has Died! Sorry \",\"isPlayer Has Died! Sorry \",\"isPlayer Has Died! Sorry \",\"isPlayer Has Died! Sorry \",\"isPlayer Has Died! Sorry \",\"isPlayer Has Died! Sorry \",\"isPlayer Has Died! Sorry \",\"isPlayer Has Died! Sorry \",\"isPlayer Has Died! Sorry \",\"isPlayer Has Died! Sorry \",\"isPlayer Has Died! Sorry \",\"isPlayer Has Died! Sorry \",\"isPlayer Has Died! Sorry \",\"isPlayer Has Died! Sorry \",\"isPlayer Has Died! Sorry \",\"isPlayer Has Died! Sorry \",\"isPlayer Has Died! Sorry \",\"isPlayer Has Died! Sorry \",\"isPlayer Has Died! Sorry \",\"isPlayer Has Died! Sorry \",\"isPlayer Has Died! Sorry \",\"isPlayer Has Died! Sorry \",\"isPlayer Has Died! Sorry \",\"isPlayer Has Died! Sorry \",\"isPlayer Has Died! Sorry \",\"isPlayer Has Died! Sorry \",\"isPlayer Has Died! Sorry \",\"isPlayer Has Died! Sorry \",\"isPlayer Has Died! Sorry \",\"isPlayer Has Died! Sorry \",\"isPlayer Has Died! Sorry \",\"isPlayer Has Died! Sorry \",\"isPlayer Has Died! Sorry \",\"isPlayer Has Died! Sorry \",\"isPlayer Has Died! Sorry \",\"isPlayer Has Died! Sorry \",\"isPlayer Has Died! Sorry \",\"isPlayer Has Died! Sorry \",\"isPlayer Has Died! Sorry \",\"isPlayer Has Died! Sorry \",\"isPlayer Has Died! Sorry \",\"isPlayer Has Died! Sorry \",\"isPlayer Has Died! Sorry \",\"isPlayer Has Died! Sorry \",\"isPlayer Has Died! Sorry \",\"isPlayer Has Died! Sorry \",\"isPlayer Has Died! Sorry \",\"isPlayer Has Died! Sorry \",\"isPlayer Has Died! Sorry \",\"isPlayer Has Died! Sorry \",\"isPlayer Has Died! Sorry \",\"isPlayer Has Died! Sorry \",\"isPlayer Has Died! Sorry \",\"isPlayer Has Died! Sorry \",\"isPlayer Has Died! Sorry \",\"isPlayer Has Died! Sorry \",\"isPlayer Has Died! Sorry \",\"isPlayer Has Died! Sorry \",\"isPlayer Has Died! Sorry \",\"isPlayer Has Died! Sorry \",\"isPlayer Has Died! Sorry \",\"isPlayer Has Died! Sorry \",\"isPlayer Has Died! Sorry \",\"isPlayer Has Died! Sorry \",\"isPlayer Has Died! Sorry \",\"isPlayer Has Died! Sorry \",\"isPlayer Has Died! Sorry \",\"isPlayer Has Died! Sorry \",\"isPlayer Has Died! Sorry \",\"isPlayer Has Died! Sorry \",\"isPlayer Has Died! Sorry \",\"isPlayer Has Died! Sorry \",\"isPlayer Has Died! Sorry \",\"isPlayer Has Died! Sorry \",\"isPlayer Has Died! Sorry \",\"isPlayer Has Died! Sorry \",\"isPlayer Has Died! Sorry \",\"isPlayer Has Died! Sorry \",\"isPlayer Has Died! Sorry \",\"isPlayer Has Died! Sorry \",\"isPlayer Has Died! Sorry \",\"isPlayer Has Died! Sorry \",\"isPlayer Has Died! Sorry \",\"isPlayer Has Died! Sorry \",\"isPlayer Has Died! Sorry \",\"isPlayer Has Died! Sorry \",\"isPlayer Has Died! Sorry \",\"isPlayer Has Died! Sorry \",\"isPlayer Has Died! Sorry \",\"isPlayer Has Died! Sorry \",\"isPlayer Has Died! Sorry \",\"isPlayer Has Died! Sorry \",\"isPlayer Has Died! Sorry \",\"isPlayer Has Died! Sorry \",\"isPlayer Has Died! Sorry \",\"isPlayer Has Died! Sorry \",\"isPlayer Has Died! Sorry \",\"isPlayer Has Died! Sorry \",\"isPlayer Has Died! Sorry \",\"isPlayer Has Died! Sorry \",\"isPlayer Has Died! Sorry \",\"isPlayer Has Died! Sorry \",\"isPlayer Has Died! Sorry \",\"isPlayer Has Died! Sorry \",\"isPlayer Has Died! Sorry \",\"isPlayer Has Died! Sorry \",\"isPlayer Has Died! Sorry \",\"isPlayer Has Died! Sorry \",\"isPlayer Has Died! Sorry \",\"isPlayer Has Died! Sorry \",\"isPlayer Has Died! Sorry \",\"isPlayer Has Died! Sorry \",\"isPlayer Has Died! Sorry \",\"isPlayer Has Died! Sorry \",\"isPlayer Has Died! Sorry \",\"isPlayer Has Died! Sorry \",\"isPlayer Has Died! Sorry \",\"isPlayer Has Died! Sorry \",\"isPlayer Has Died! Sorry \",\"isPlayer Has Died! Sorry \",\"isPlayer Has Died! Sorry \",\"isPlayer Has Died! Sorry \",\"isPlayer Has Died! Sorry \",\"isPlayer Has Died! Sorry \",\"isPlayer Has Died! Sorry \",\"isPlayer Has Died! Sorry \",\"isPlayer Has Died! Sorry \",\"isPlayer Has Died! Sorry \",\"isPlayer Has Died! Sorry \",\"isPlayer Has Died! Sorry \",\"isPlayer Has Died! Sorry \",\"isPlayer Has Died! Sorry \",\"isPlayer Has Died! Sorry \",\"isPlayer Has Died! Sorry \",\"isPlayer Has Died! Sorry \",\"isPlayer Has Died! Sorry \",\"isPlayer Has Died! Sorry \",\"isPlayer Has Died! Sorry \",\"isPlayer Has Died! Sorry \",\"isPlayer Has Died! Sorry \",\"isPlayer Has Died! Sorry \",\"isPlayer Has Died! Sorry \",\"isPlayer Has Died! Sorry \",\"isPlayer Has Died! Sorry \",\"isPlayer Has Died! Sorry \",\"isPlayer Has Died! Sorry \",\"isPlayer Has Died! Sorry \",\"isPlayer Has Died! Sorry \",\"isPlayer Has Died! Sorry \",\"isPlayer Has Died! Sorry \",\"isPlayer Has Died! Sorry \",\"isPlayer Has Died! Sorry \",\"isPlayer Has Died! Sorry \",\"isPlayer Has Died! Sorry \",\"isPlayer Has Died! Sorry \",\"isPlayer Has Died! Sorry \",\"isPlayer Has Died! Sorry \",\"isPlayer Has Died! Sorry \",\"isPlayer Has Died! Sorry \",\"isPlayer Has Died! Sorry \",\"isPlayer Has Died! Sorry \",\"isPlayer Has Died! Sorry \",\"isPlayer Has Died! Sorry \",\"isPlayer Has Died! Sorry \",\"isPlayer Has Died! Sorry \",\"isPlayer Has Died! Sorry \",\"isPlayer Has Died! Sorry \",\"isPlayer Has Died! Sorry \",\"isPlayer Has Died! Sorry \",\"isPlayer Has Died! Sorry \",\"isPlayer Has Died! Sorry \",\"isPlayer Has Died! Sorry \",\"isPlayer Has Died! Sorry \",\"isPlayer Has Died! Sorry \",\"isPlayer Has Died! Sorry \",\"isPlayer Has Died! Sorry \",\"isPlayer Has Died! Sorry \",\"isValcore (Guild) im healing \",\"isValcore (Guild) i like it \"]}\n"
     ]
    },
    {
     "name": "stderr",
     "output_type": "stream",
     "text": [
      " 70%|███████   | 70/100 [00:16<00:06,  4.29it/s]"
     ]
    },
    {
     "name": "stdout",
     "output_type": "stream",
     "text": [
      "add:  ok\n",
      "{\"id\":329198,\"data\":[\"@nicolerichie why does Joel wish to spray himself in the face with mace???  \",\"@benjaminmadden hey we, your fans, are worried. heard about the earthquake but no news about you guys being alright. \",\"@A7X_Bat_Angel try again \",\"@A7X_Bat_Angel well that is just odd. wait ummmmm i dunno what to do  um sign in as guest for now i guess\",\"my finger still hurts \",\"missing some of my buddies on gc.com chat right now  where\\u0027d they go?\",\"removed band-aid from finger......not a pretty sight. looks worse then it did last night.  and it hurts more too. \",\"@A7X_Bat_Angel hello person who is still awake. come back to gc chat please \",\"damn feeling depressed again. need to talk to my GC guys  where have they gone?\",\"@JoelMadden lol thought you were going to sleep. sorry to hear you don\\u0027t sleep well \",\"@Slackie531 sounds................boring \",\"@StephzillaNJ o.o I love that song \",\"@JoelMadden what about your GC Family. you have your fans too \",\"@A7X_Bat_Angel well I\\u0027m glad you enjoyed the movie  I haven\\u0027t seen the last three terminator movies at all\",\"@PTGC k we know no studio this weekend, but we still want updates or for you just to come chat really  so quiet right now on gc.com chat\",\"@BloodzillaBilly lol I\\u0027m sure you\\u0027ll figure out the door hinge. though I must say I believe you need three hinges to hang a door \",\"@BloodzillaBilly omg I love scrabble  thought monopoly is my game of choice\",\"@Slackie531  REALLY?!?!?! lol j/k not gonna let that go to my head\",\"@BloodzillaBilly http://bit.ly/177UPw  can\\u0027t send a real cake so i\\u0027m sending you this pic instead \",\"http://twitpic.com/7gcg7 - dunno why but I find I can\\u0027t stop staring into those soft brown eyes. this man is just dreamy \",\"@IamRomance exactly! You got it!  lol I really wish i had a real career, but yeah i\\u0027m just glad to have kept my job so long.\",\"holy carp (new thing instead of saying crap) 87 followers and 1301 tweets \"]}\n"
     ]
    },
    {
     "name": "stderr",
     "output_type": "stream",
     "text": [
      " 71%|███████   | 71/100 [00:16<00:06,  4.35it/s]"
     ]
    },
    {
     "name": "stdout",
     "output_type": "stream",
     "text": [
      "add:  ok\n",
      "{\"id\":259372,\"data\":[\"@Athena_goddess Aren\\u0027t you gonna\\u0027 say Hi on Twitter to me and JJJ...  \",\"@Athena_goddess I\\u0027ve been severley plagued by thunderstorms lately so no \\u0027putie time for me.  \",\"I just got beat down by a couple Snorks.   \",\"@kluless65 I\\u0027m gonna weed my flowerbed too. D was making fun of it.  \",\"@Djalfy Hate is such a strong word....   \",\"Am craving sweet\\u0026amp;sour salsa BBQ Peeps. Do they sell Peeps when it isn\\u0027t near Easter?  \",\"@joyntheir Yes indeed.  \",\"@kluless65 I found it in my telly fone.   \",\"@kluless65 A\\u0027ight Homey, I\\u0027ll txt that cake to Cali.  \",\"@Athena_goddess I dunno...he sounds pretty happy. I can go check on the bird if you want. I love stumbling blindly through the woods. \",\"@Athena_goddess Have you ever saw Ray Stevens: Mississippi Squirrel Revival video?  \",\"@kluless65 I do like the real tiny spiders that jump around and have eyes too big for their heads.  \",\"Hey, as long as they are over 18 no harm no foul!  \",\"@kluless65 Ahhhh...then I agree!! I do what I can, living alone teaches ya\\u0027 survival skills. I had to learn all that domestic stuff.  \",\"@puffaddering You should talk to @Athena_goddess about Twilight. She is like the resident expert on the topic.  \",\"@Raznwlvs BBQ...I love BBQ Pringles.   I also tried the Limited time flavor..Mozzarella sticks and Marinara.. Mmmm...mmm...mmm!\",\"@CommieWench Yes you are RIGHT!    *supahmodel stomps off in his Ru Paul pumps while trying not to break ankle*\",\"@Athena_goddess I wont tell you what I ate. TAD had mac-a-roo and cheese though as one item. So you both have that in common.  \",\"@CommieWench You are pretty.  \",\"@kluless65 I am doing fantastic JJJ!  You? Doing your questions already? teacher\\u0027s pet!!  \",\"@oeyz Howdy do!  I\\u0027m just living my life and loving it.  How\\u0027s you?  \",\"@kluless65 And I say you e-mail Libby saying you want to cancel..take the fall.  \",\"@LuvsGigglin Pet Rock doesn\\u0027t need Hello Kitty Band-Aid...but thanks!  \",\"@starlingpoet She calls it Winterpeg also..and The \\u0027Peg. LOL. She said the Riders won the last game...and Go Blue Bombers!!  \",\"@kluless65 Am squinting at Twitter..is messing with me. How\\u0027s you?  \",\"@kluless65 Hahahaha..you have saw it. It\\u0027s the orange asiatic lilies. Gigs just saw it a lot bigger.  \",\"@Fishoutofsea Thanks FOS! I was in a Microsoft Paint drawing mood!  \",\"@Fishoutofsea I will draw you a fishy FOS. Gimme the specifications you want.  \",\"@SandyCalico Mmm!  I love pasta, garlic and oil with some crushed red pepper! My main staple is chicken though.  \",\"@appletartlet Howdy do appletart! A big hello from the state of Tennesee!  \",\"@MoocherGirl Hahahah, I can tolerate it. some songs are actually good. Just it isn\\u0027t my first choice.   \",\"@MoocherGirl You envy Missy Higgins! I don\\u0027t!  \",\"@appletartlet GOODNIGHT!!  \"]}\n"
     ]
    },
    {
     "name": "stderr",
     "output_type": "stream",
     "text": [
      " 72%|███████▏  | 72/100 [00:17<00:06,  4.28it/s]"
     ]
    },
    {
     "name": "stdout",
     "output_type": "stream",
     "text": [
      "add:  ok\n",
      "{\"id\":378384,\"data\":[\"@abbycorfan oh no hope your arm is ok. \",\"@regengirl can\\u0027t believe how Hay turned out for you  hope u r ok now, did you manage to get to any talks?\",\"Fire alarm at hotel all being evacuated  stupidly I only walked out with me \\u0026amp; me phone no purse\",\"@CrisBrown peppermint for me \",\"Sitting in Fazeley for the start of the Mudlark #postdigital day. Just had to try out the bubble machine \"]}\n"
     ]
    },
    {
     "name": "stderr",
     "output_type": "stream",
     "text": [
      " 73%|███████▎  | 73/100 [00:17<00:06,  4.36it/s]"
     ]
    },
    {
     "name": "stdout",
     "output_type": "stream",
     "text": [
      "add:  ok\n",
      "{\"id\":80079,\"data\":[\"@letsbrocknroll dude, i hope you\\u0027re showering sometime soon.  you smelled gross tonight \",\"friggin slept in   no early morning digimon for me.  and i\\u0027m off!\",\"@Cambawamba wendy\\u0027s is wanted \",\"nobody should have to start their days at 5:30 \",\"I hate guitar strings \",\"I have a funny feeling i forgot deodorant this morning. Sorry in advance to anybody within miles of me today \",\"halo wars doesn\\u0027t work \",\"what to eat \",\"its way too early to be singing this much \",\"If i have to do this song one more time ill poo on his cowboy hat \",\"eff you, foot \",\"Fractured \",\"my foot is exploding \",\"Wish i was going to see tbs and anberlin tomorrow \"]}\n"
     ]
    },
    {
     "name": "stderr",
     "output_type": "stream",
     "text": [
      " 74%|███████▍  | 74/100 [00:17<00:06,  4.21it/s]"
     ]
    },
    {
     "name": "stdout",
     "output_type": "stream",
     "text": [
      "add:  ok\n",
      "{\"id\":633616,\"data\":[\"omg they found a seat from the air france flight !?  im scared of planes now \\u0026gt;.\\u0026lt;\",\"think im gunna go play sims 3 on ma iphone again! stupid UK, wish i had it for my mac the now \",\" thats a shame but as soon as a plane loses contact with the airports \\u0026amp; doesnt emergency land within hours, obv something bads happened :$\",\"@QueenBxoxo aye he is  :$ hes no replied to me \",\"@QueenBxoxo still find it quite weird ma auntie feels like crying when she sees me :$  ohh alright lol ;) keep getting mixed up with faces\",\"@QueenBxoxo ano! ;) u cant survive something like that unless they emergency landed on the water :$ aww ano poor wee baby \",\"@QueenBxoxo aye a heard that some guy from aberdeen was on it :$ \\u0026gt;.\\u0026lt;  im actually terrified now  dont wanna go on a plane :$\",\"@QueenBxoxo eh aye it is! :o to me! 6ft deep water scares the shit out me!  and im 5ft 10 haha! :$\",\"@QueenBxoxo ohhh lol ;) she died the other day  she was only 9 weeks old when she was on the titanic :$\",\"on the train coming back from ma gorgeous girlfriends!  near edinburgh bout to go over the forth rail bridge \",\"@QueenBxoxo awwft wots up  ? ohh alright lol ;) direct message ? :$:$\",\"well sooner u get out the better! then u can be around wee cats n dogs n stuff all day  ;) ufft  do what on purpose ? :$ almost there ;)\",\"@QueenBxoxo just cba voting every day lol ;) ma eyes are okay  lol :$ ohh same its still pourin here  oh well. wot u get out there :$?\",\"@QueenBxoxo lol a suppose ;) ill go vote more then lmao ;) ohh ;) is there no mcdonalds near where ur work is then :$  ?\",\"@QueenBxoxo heeeey lol its fine! u alright? :$ urgh a feel so sick \",\"@QueenBxoxo iwbiy ;) lol but ykno wot a mean?? its annoying \",\"oh i know where it is now lol alt + 3 \",\"New Moon is shite  most depressing fucking book ever \",\"Susan Boyle is still trending ? \\u0026gt;.\\u0026lt; she makes me sick lol. leave her alone but. poor wee women just wants to go home to her wee cat \",\"NEW MOON IS SHITE  muahaha\",\"@swear_bot ill swear all i fucking like thank you very fucking much \",\"im seriously thinking bout getting an xbox 360 if project natal works \",\"ohh fs hurry up and send sims3 out! :$:$ wanna play it lol. bought another new game  inFamous haha fuck you xbox \",\"@QueenBxoxo morning becca!!!  lol i dont think anybody on twitter, except you, likes me haa... :$\",\"@whatwhywho hi! finally someone from scotland adds me! how\\u0027re u \",\"@adrence np!  how u like the new album ?\",\"@whatwhywho lol aye ;) awesome, i\\u0027ll follow them \",\"@QueenBxoxo aye but if u preorder it, it comes on the day ;) it better!  ahh alright lol ;) sounds gd ;)\",\"@whatwhywho aw wit u r!? ;) ohh clash are good  i like umm sexpistols,ramones,clash,acdc,metallica,queen,greenday,nirvana lol :$\",\"http://twitpic.com/6iwhj for everyone who thinks AIR FRANCE was in the bermuda \",\"take that as a no then  stupid twitter, so boring!\",\"#WWDC new iphone tomorro!?  stop calling it iphone video, sounds shit!\",\"goin over forth rail bridge \",\"@QueenBxoxo he might  ohh an even earlier one ;) lol. aye swap! please ? lol. ohh :$ u r ? :$ no go to the shop u got it from ? :$\",\"ohh alright then ;) :$ oh alright  well ask when ur in  oh i dunt no anythin bout blackberrys haha lol :$ i was lookin at buying one of\",\"@QueenBxoxo u reply to meeee :$ i love yooou  xxxxxxxxxxxxxxxxxxxxxxxxxxxxxxxxxxxxxxxxxxxxxxxxxxxxxxxxxxxxxxxxxxxxxxxxxxxxxxxxxxxxxxxxxxxx\",\"@QueenBxoxo ahh hello  its fine lol ;) u alright  ?\",\"@QueenBxoxo eh wit!? Â£2,000! fuck that! good!  u dont tho do u ? u just miss it, but ur still  ur goin in late lol :$\",\"@QueenBxoxo ahh alright :$ mmhm a suppose so :$ ull get one dw  sorry a took a while there. was makin lunch lol :$ u away for urs ?\"]}\n"
     ]
    },
    {
     "name": "stderr",
     "output_type": "stream",
     "text": [
      " 75%|███████▌  | 75/100 [00:17<00:05,  4.38it/s]"
     ]
    },
    {
     "name": "stdout",
     "output_type": "stream",
     "text": [
      "add:  ok\n",
      "{\"id\":76232,\"data\":[\"@Demi_Lynn lol~ That\\u0027s one of my favorite parts! \"]}\n",
      "add:  ok\n"
     ]
    },
    {
     "name": "stderr",
     "output_type": "stream",
     "text": [
      " 76%|███████▌  | 76/100 [00:18<00:05,  4.58it/s]"
     ]
    },
    {
     "name": "stdout",
     "output_type": "stream",
     "text": [
      "{\"id\":119698,\"data\":[\"@shyheartsjordan No...I don\\u0027t get to...I just went to a show in March, but nothing is coming close enough...  *crying*\",\"@OSnapple Will do ur hineass... \"]}\n"
     ]
    },
    {
     "name": "stderr",
     "output_type": "stream",
     "text": [
      " 77%|███████▋  | 77/100 [00:18<00:05,  4.33it/s]"
     ]
    },
    {
     "name": "stdout",
     "output_type": "stream",
     "text": [
      "add:  ok\n",
      "{\"id\":678085,\"data\":[\"just hanging around the house, going to get ready to go to town with the family soon \"]}\n"
     ]
    },
    {
     "name": "stderr",
     "output_type": "stream",
     "text": [
      " 78%|███████▊  | 78/100 [00:18<00:05,  3.88it/s]"
     ]
    },
    {
     "name": "stdout",
     "output_type": "stream",
     "text": [
      "add:  ok\n",
      "{\"id\":231067,\"data\":[\"Slideshare\\u0027s embed code is annoying me.  Sorry about the tiny embed  #fail\",\"@summatusmentis and that attitude is why I\\u0027ll never be unemployed. Validate your input or it can be subverted. I hope you don\\u0027t code in C \",\"@Namastizzle it involved a laser mounted on a vibrator, but sadly we didn\\u0027t get the USB Humping Dog into the mix in time \",\"@Randominterrupt photorec got the photos, the movies were nowhere to be found even with paranoid/bruteforce/brokenfiles turned on \",\"@james_herdman middle-click is addictive, what can i say \",\"@bensonk42 @fogcreekcopilot followed me too.  No Linux support \",\"In unrelated news, I\\u0027m super sad I\\u0027m not at OSB right now  #osb09\",\"@Facutvivas hehe, you think you can get pay-as-you-go data in canada?  nope \",\"6GB of in one of my inboxen makes for a very sad Exchange server, apparently \",\"@ryanaraine ctrl-k in firefox means i never do either. I feel left out \",\"@ruyoung oh man is it a VIA train?  Their WiFi is horrible \",\"@davehull that said, i\\u0027m not a copyright lawyer \",\"@MissHC I does what I can \",\"@Causalien The irony is that I use it every day at work \",\"@danphilpott my first modem was 28.8K.  My second was a Nortel 1MB DSL modem.  I\\u0027m a millenial, but only just barely \",\"zomg, CLE -\\u0026gt; SEA is pretty far it turns out.  Just got in, reveling in #notacon Anything But Ethernet victory \",\"Road trippin\\u0027 \",\"@seemsArtless be judicious in replies; pay attention to how others use soc media. Be genuine /\\u0026amp;/ professional, the rest works itself out \",\"Did I mention that it\\u0027s a pirate kite? \",\"@jjx cryptogram!  plain-text awesomeness \"]}\n"
     ]
    },
    {
     "name": "stderr",
     "output_type": "stream",
     "text": [
      " 79%|███████▉  | 79/100 [00:18<00:05,  3.88it/s]"
     ]
    },
    {
     "name": "stdout",
     "output_type": "stream",
     "text": [
      "add:  ok\n",
      "{\"id\":622632,\"data\":[\"allright now let\\u0027s look 4 it \"]}\n"
     ]
    },
    {
     "name": "stderr",
     "output_type": "stream",
     "text": [
      " 80%|████████  | 80/100 [00:19<00:05,  3.96it/s]"
     ]
    },
    {
     "name": "stdout",
     "output_type": "stream",
     "text": [
      "add:  ok\n",
      "{\"id\":646170,\"data\":[\"I got a lip ring with P, B, and other B, bc im a badass  haha\",\"Just got out of the shower. went camping \"]}\n"
     ]
    },
    {
     "name": "stderr",
     "output_type": "stream",
     "text": [
      " 81%|████████  | 81/100 [00:19<00:04,  3.97it/s]"
     ]
    },
    {
     "name": "stdout",
     "output_type": "stream",
     "text": [
      "add:  ok\n",
      "{\"id\":267906,\"data\":[\"one of my eyes looks smaller than the other today thanks to HAY FEVER! \",\"revising for a resit and watching endless videos with annoying background music about mitosis and meiosis \",\"just did my tech exam  and maths this morning thank god they\\u0027re over! \",\"did my english language exam  complained in it a bit hehe , went well x\",\"Gold Juno Sword Utah \\u0026amp; Omaha - i know my stuff  - just did an exam on it  Happy 65th anniversary for those who fought in Normandy at D-Day\"]}\n"
     ]
    },
    {
     "name": "stderr",
     "output_type": "stream",
     "text": [
      " 82%|████████▏ | 82/100 [00:19<00:04,  4.12it/s]"
     ]
    },
    {
     "name": "stdout",
     "output_type": "stream",
     "text": [
      "add:  ok\n",
      "{\"id\":670292,\"data\":[\"I lost my new camaraa and my cell phone too \"]}\n"
     ]
    },
    {
     "name": "stderr",
     "output_type": "stream",
     "text": [
      " 83%|████████▎ | 83/100 [00:19<00:04,  4.19it/s]"
     ]
    },
    {
     "name": "stdout",
     "output_type": "stream",
     "text": [
      "add:  ok\n",
      "{\"id\":713469,\"data\":[\"@Dutchrudder yeah, I was able to get in but I\\u0027m trying to retrieve my contacts and my last backup was this past one where I\\u0027m locked out. \",\"I\\u0027m still thinking ... Idk \",\"http://twitpic.com/6e4lp - Worrying too much causes an upset stomach \",\"http://twitpic.com/7kxwu - The W Hotel\\u0027s workout rm. You can\\u0027t see @mayhemstudios lifting weights \",\"@skylineproject imovie06 was cool.  I made a couple of (1st time) videos for a my cousin\\u0027s graduation and they turned out nicely.  \",\"http://twitpic.com/4e87r - so this is me NOW!  red \\u0026amp; time for bed.  almost.  one last song to dance to... http://bit.ly/F4eq \",\"I\\u0027ve said that \\u0026quot;I\\u0027m too busy playing videogames to bother with make-up\\u0026quot; bc well, I am.  And I just...idk, I\\u0027m lazy.\",\"http://twitpic.com/4gy64 - @detrick This was a \\u0026quot;d\\u0026quot; from my view.  Um, I\\u0027ll get it right next time. \",\"@albynomonk thanks, Soren.   \",\"http://twitpic.com/4h07e - @MariKurisato I think I\\u0027ll have to try again another night...couldn\\u0027t get it right and it\\u0027s like 2am! \",\"http://twitpic.com/4h080 - @MariKurisato I think I\\u0027ll have to try again another night...couldn\\u0027t get it right and it\\u0027s like 2am!   #si ...\",\"@enoxh http://twitpic.com/4h2of - omg, how cuute. LOL  Neo Pets!  I want Kali and Nimmo \",\"@mike_feng Hi there   off to fix my iPhone...*crossingmyfingers*\",\"What\\u0027s up!!? @guillermop \",\"@guillermop you should. \",\"@wrecktify LOL ok we gotta get the folks from Microsoft and live360 in WA to hire me. \",\"@TheMegatronDon hi  my favorite music producer who should moonlight as a comedian... I kill that song (drums) too and it\\u0027s a hard one! ?\",\"#followfriday @tpr2 xx(HUGS)xx  this is your favorite song now?  ? http://bit.ly/KZ7BW.   #140smiles @operationsmile\",\"@TheMegatronDon hey where\\u0027s my post? I had said THX I notice now that the notes are prelearned in sequences \\u0026amp; not one long line...easier. \",\"@zaibatsu loove it! TY   Grease is the word is the word is the word is the word...\",\"@wiseleo looks like on the 635am \",\"I\\u0027m so tired. I\\u0027m going to ask this guy with a guitar to play something for me. \",\"@AvArFieldAgent not so fast. Just because...another BATHROOM mirror shot, smartypants!   http://twitpic.com/6tcjh\",\"@netwizard2003 http://twitpic.com/6uumh - Awesome green apple \",\"Uh @JoelMadden, I\\u0027ll do it.      #musicmonday\",\"I think you meant \\u0027p0wn\\u0027 the men, right @webaddict?  @petehopkins\",\"@webaddict like my brainfarts bit.ly? \",\"@albynomonk  do you have groups in Tweetie?\",\"@mayhemstudios Calvin that\\u0027s @freshypanda\\u0027s tweet, dear. \",\"@m4s Hi Colin \",\"@Ponza you never heard me before?   http://bit.ly/Nmh2s this will unswoon but I feel that u should know everything about me. \"]}\n"
     ]
    },
    {
     "name": "stderr",
     "output_type": "stream",
     "text": [
      " 84%|████████▍ | 84/100 [00:20<00:03,  4.19it/s]"
     ]
    },
    {
     "name": "stdout",
     "output_type": "stream",
     "text": [
      "add:  ok\n",
      "{\"id\":188227,\"data\":[\"Argh! I was suuuper sleepy an hour ago, now I\\u0027m wide awake.  Hope I don\\u0027t stay up all night. :-/\",\"@vasbestkept Oh, well then eBay will not work for you. \",\"I hate that all my EST \\u0026amp; CST friends have gone to bed already, cuz now I have no one to keep me entertained anymore. \",\"@hngryO I don\\u0027t like traveling. I prefer 2 stay @ hm, especially cuz Lily \\u0026amp; Luffy are here! They don\\u0027t eat whn I\\u0027m gone. \",\"it\\u0027s already 7:42am? \\u0026amp; I still feel like I haven\\u0027t accomplished anything yet! \",\"is sad! Her dog, Lily\\u0027s eye is swollen \\u0026amp; has a wound on her front paw! \",\"Poor Lily! She HATES getting ear drops put in! \",\"doesn\\u0027t feel good. Boo! \",\"@vasbestkept oh yeah I don\\u0027t need a new phone either, but I\\u0027m starting to want a BB too. \",\"@slicKGilchrist yeah i was mad late for church too! \",\"@necolebitchie Wow! That was HORRIBLE! Man I didn\\u0027t realize how dangerous those poles are! She almost killed herself. \",\"@astyles101 the only alcoholic drink I like is tequila/margarita. I wish I cud get the same flavor as a non-alcoholic drink. \",\"@mousebudden ur mod frydude is WACK! I\\u0027ve been online w/u since this morning \\u0026amp; he kickd me out! \",\"@bakespace http://twitpic.com/6n1j1 - aw, what happened? \",\"@imkuface Yeah shopping for jeans can be hard \\u0026amp; annoying! \",\"Ugh! Ok I\\u0027ve been up for 25 hrs \\u0026amp; still wired. *sigh* But I have a FULL day ahead of me! \",\"Ugh! Been up for 25 hrs \\u0026amp; still wired. *sigh* i wanna go to sleep!  I had a FULL day yesterday w/an even fuller tmrw! \",\"@Suai Oh \\u0026quot;Shooter\\u0026quot; is a good movie!  Only seen it once tho.  Gotta put that back on my \\u0026quot;to watch\\u0026quot; list! \",\"Wow @sockington, I was unaware how popular u were/are 292,018 followers! \",\"Because of @Kells1 I\\u0027ve been singing \\u0026quot;I\\u0027m a little teapot...\\u0026quot; for days now. \",\"@jennybenny76 How\\u0027re at a hair appt in LA? Isn\\u0027t that sumthn ppl do b4 they leave their city? But u fly out to a hair appt? Hahaha! \",\"@Bethenny Every episode I watch, I just \\u0026lt;3 u more! Sorry Ramona called u the \\u0026quot;underdog\\u0026quot;! I think ur the most fabulous! \",\"@allymisslove I luv that song! I had to bump it as soon as I saw ur tweet! \",\"@FashionGuru Luvn the homemade beauty products joint! \",\"@FashionGuru I think I like the idea of an Oompa Loompa instead of a \\u0026quot;regular\\u0026quot; midget. *nodding head* Yes, that\\u0027s what mine will be! \",\"I end up \\u0026quot;dog dialing\\u0026quot; sumtimes. What\\u0027s dog dialing, u ask?My dogs will walk across my phone \\u0026amp; end up calling someone. aka \\u0026quot;dog dialing\\u0026quot;! \",\"@RainyTheHorse Yikes! Well hopefully my dogs don\\u0027t go thinking they can talk on the phone for THAT long! \",\"@LanceGross in the words of Chris Tucker, \\u0026quot;And we know this man!\\u0026quot; Eva is absolutely gorgeous! \",\"@FashionGuru I COMPLETELY agree! I \\u0026lt;3 twitter! \",\"@thekatinas I agree! It starts with a Godly head of household/leader! \",\"@fabuloustoccara yes! tweetdeck is waaay better than tweeting via web. \",\"@slicKGilchrist LOL!!!! that is hilarious! well u just gotta flex ur intellect skills w/ur 140 char! \",\"@lancegross http://twitpic.com/4vd89 - such a good looking cpl!! can\\u0027t wait to see what kind of kids y\\u0027all will have! \",\"But I am on pg 145 of 165, so I\\u0027m getting close!  *yawn*\",\"is at Vineyard Extreme church where Ramon is the Senior Pastor! Crazy! \",\"@slicKGilchrist oh ok. just checkimg! Jon \\u0026amp; Kate are breaking up, didn\\u0027t wanna hear abt another rocky marriage! hahaha! \",\"@necolebitchie i wanna see what u wore! \",\"@FashionGuru sorry! the best way to get kids that ask a lot of questions is to ask questions back. \",\"@orezavi oh i luv nutella \\u0026amp; crunchy peanut butter on toasted bread! \",\"@mistahj Oh ok. Nice to see the \\u0027hood didn\\u0027t let u down! \",\"@SherriEShepherd that\\u0027s absolutely HILARIOUS that ur dad\\u0027s camera is 5 yrs late! \",\"When a 3 year old is asked about monsters http://bit.ly/pteeX  HILARIOUS! \\u0026amp; cute! \",\"@hngryO I\\u0027m glad u got a chance to see Patrick \\u0026amp; old childhood friends! \",\"@angelayee http://twitpic.com/4eou9 - Man! ur dad\\u0027s hair looks luxurious! \",\"@FashionGuru for real! I get all excited every time I see a commercial or trailer! \",\"@FashionGuru *nodding head* totally agree that Megan Fox is the Angelina of this generation! \",\"@CHillPR that\\u0027s sounds like a cute sleeping position for a dog!  u gotta twitpic!\",\"@eunice007 http://twitpic.com/15y48 - he\\u0027s cute. I say let\\u0027m take u out! \",\"@DatingChronicle I\\u0027m a fan of sex w/in the boundaries of marriage; so if the friend ur benefiting frm is ur spouse I\\u0027m all for it! \",\"@mistahj i didn\\u0027t know u spoke spanish. \",\"@DatingChronicle Of course I\\u0027m still hangn w/u! various belief systems \\u003d more interesting. I only unfollow bcuz sum1\\u0027s boring or vulgar! \",\"@feiticeira that\\u0027s great! i\\u0027m gonna hafta visit their website the nxt time I need a bag! \"]}\n"
     ]
    },
    {
     "name": "stderr",
     "output_type": "stream",
     "text": [
      " 85%|████████▌ | 85/100 [00:20<00:03,  4.37it/s]"
     ]
    },
    {
     "name": "stdout",
     "output_type": "stream",
     "text": [
      "add:  ok\n",
      "{\"id\":884033,\"data\":[\"I luv 2 tweet tweet! Ahhgg my fish died \\u0026quot;fat albert\\u0026quot; \",\"Is going 2 Florida 2marrow!! I\\u0027m mess talking 2 my BFF!! \"]}\n"
     ]
    },
    {
     "name": "stderr",
     "output_type": "stream",
     "text": [
      " 86%|████████▌ | 86/100 [00:20<00:03,  4.50it/s]"
     ]
    },
    {
     "name": "stdout",
     "output_type": "stream",
     "text": [
      "add:  ok\n",
      "{\"id\":706104,\"data\":[\"@skinnylatte @willyfoo i believe willy has a setup something like that.  #awaresg\"]}\n",
      "add:  ok\n"
     ]
    },
    {
     "name": "stderr",
     "output_type": "stream",
     "text": [
      " 87%|████████▋ | 87/100 [00:20<00:02,  4.66it/s]"
     ]
    },
    {
     "name": "stdout",
     "output_type": "stream",
     "text": [
      "{\"id\":643169,\"data\":[\"Twisted ankle in heels last night - carried on dancing for 2 hours....morning after and I can\\u0027t walk....OUUUUWWWWWW!  Loved Proud!!! xxx\"]}\n"
     ]
    },
    {
     "name": "stderr",
     "output_type": "stream",
     "text": [
      " 88%|████████▊ | 88/100 [00:20<00:02,  4.67it/s]"
     ]
    },
    {
     "name": "stdout",
     "output_type": "stream",
     "text": [
      "add:  ok\n",
      "{\"id\":264929,\"data\":[\"Back from a run in the rain with @loic and @maximegarrigues. Weather sucks today in SF \",\"I\\u0027m so sad about the Air France Jet crash. It\\u0027s crazy, the plane just disappeared. Poor travelers...  http://is.gd/LKkT\",\"Going to Seattle again!  #boarding SFO to SEA -  http://v.cristdr.com/3MK\"]}\n",
      "add:  ok\n"
     ]
    },
    {
     "name": "stderr",
     "output_type": "stream",
     "text": [
      " 89%|████████▉ | 89/100 [00:21<00:02,  4.81it/s]"
     ]
    },
    {
     "name": "stdout",
     "output_type": "stream",
     "text": [
      "{\"id\":821412,\"data\":[\"@Alegrya A good suit looks fantastic, but sadly, most men wear cheap suits which look nasty \",\"@sebr get a ticket? North Sydney Council left a parking turd on our car today too \",\"@neridah ooh, I did that 8 years ago. What a blast when you get over though \"]}\n"
     ]
    },
    {
     "name": "stderr",
     "output_type": "stream",
     "text": [
      " 90%|█████████ | 90/100 [00:21<00:02,  4.56it/s]"
     ]
    },
    {
     "name": "stdout",
     "output_type": "stream",
     "text": [
      "add:  ok\n",
      "{\"id\":194457,\"data\":[\"@thelostdot that story is so awful ... the things people will do for money \",\"@thecrazyjogger I did a 26k marathon in Canada but it nearly killed me and I don\\u0027t think I could attempt it in the heat here \",\"@thelostdot  it happens to all of us.if it makes you feel better I had half a pack of Oreos this morning lol so I kinda wrecked my workout\",\"@thecrazyjogger lol if i ran at night I would have people trying to follow me and bothering me.. stupid boys...  \",\"ugh my throat hurts..  \",\"@alfayez are you ok? \",\"@cookiemonster82 @KTDP I thought about the blackberry but i really do like my iphone  i would buy a new one if this one is ruined\",\"agreed to help my cousin paint her room.. now I\\u0027m covered in paint.. stupid paint fight.. \",\"New rule don\\u0027t let someone else help you set up your computer and put their name rather than yours,it causes too many problems \",\"@mutairy ur kinda mean... sharing is caring etc \",\"@Roqayah good morning \",\"@turab235 lol.. Baby Got Back... For the record, I am not proud of that moment  Damn u Sir Mix-A-Lot!\",\"@mo3ath thanks! \",\"@thecrazyjogger nice  I\\u0027ve heard good things about them,a friend of mine really liked the Timex Ironman Triathlon watch, buying it in KSA?\",\"@adlyx better than no high school degree \",\"@noraalessa hmm perhaps I will do what you did and just have both  seems like a reasonable solution.. best of both worlds\",\"@Saudi he is 6.. not a corrupted perv like you \",\"@alfayez @thelostdot good morning \",\"@mutairy I think it would still be cheaper  if you wait a few months I\\u0027ll bring it back for you guys\",\"@Saudi lol nope ur still creepy    nice try though\",\"@mo3ath thank you! \",\"@ATMMD it\\u0027s blocked in KSA.. use bitly.com instead \",\"@Nwairah yay!! mabrook  that\\u0027s awesome!\",\"Iphone is back  yay!\",\"@khanserai alhamdulilah got in last night, immediately passed out from jetlag \"]}\n"
     ]
    },
    {
     "name": "stderr",
     "output_type": "stream",
     "text": [
      " 91%|█████████ | 91/100 [00:21<00:02,  4.36it/s]"
     ]
    },
    {
     "name": "stdout",
     "output_type": "stream",
     "text": [
      "add:  ok\n",
      "{\"id\":464856,\"data\":[\"@candydoodles uh. okay ? \",\"still playing pet soceity. \"]}\n"
     ]
    },
    {
     "name": "stderr",
     "output_type": "stream",
     "text": [
      " 92%|█████████▏| 92/100 [00:21<00:01,  4.47it/s]"
     ]
    },
    {
     "name": "stdout",
     "output_type": "stream",
     "text": [
      "add:  ok\n",
      "{\"id\":452405,\"data\":[\"good morning sunshine.  \\u0026lt;3\",\"@alyandaj OMG. i know i loved it !!!  \\u0026quot;wait, Kevins a girl?\\u0026quot; rofl\",\"@camiloenrique thanks  for the comment. \",\"@hayleybyrd2010 the 22nd. \"]}\n"
     ]
    },
    {
     "name": "stderr",
     "output_type": "stream",
     "text": [
      " 93%|█████████▎| 93/100 [00:22<00:01,  4.49it/s]"
     ]
    },
    {
     "name": "stdout",
     "output_type": "stream",
     "text": [
      "add:  ok\n",
      "{\"id\":530914,\"data\":[\"heavy rain this morning; so much for trying a bit of weeding today \",\"@kirajones Hmmm, maybe our\\u0027s is faulty - it won\\u0027t charge from the sun, only from charging it up indoors through mains \",\"@thenonconsumer I could too, but would miss fresh veggies \",\"@TraceySmith  yep me too. No sleep for 3 nights; am knackered and NOT for the right reasons Hurumph. Love the Co-Op piece and hairdo!\",\"@thenonconsumer Oh dear; sorry to hear about fishes; that\\u0027s too bad \",\"We\\u0027ve got a wild bees nest in our lawn, but it\\u0027s been dug up by something - what do you think did it and what can we do? bees look sad  \",\"not hanging around to day - lots to do, but need advise on my bees \",\"@MichaelWaring   we have scarily similar ideas about men who are a***holes as a direct relation to the size of their erm ... LOL!\",\"scorching day here today - up early doing the gardening before it gets too hot \",\"@thenonconsumer Oh gorgeous - lucky you\\u0027; we love oregano (especially when free!) Can you plant some? It roots easily \",\"@timhobbs from these tiny beginnings I hope that people feel inspired to do more - and move onto the major things. Baby steps... \",\"@dfoster1970 it\\u0027s the opportunity for you to spread some twitter love by recommending people worthy of following  Does that help?\",\"@greengivingco and breathe .....  Hope time slows down for you !\"]}\n"
     ]
    },
    {
     "name": "stderr",
     "output_type": "stream",
     "text": [
      " 94%|█████████▍| 94/100 [00:22<00:01,  4.59it/s]"
     ]
    },
    {
     "name": "stdout",
     "output_type": "stream",
     "text": [
      "add:  ok\n",
      "{\"id\":347561,\"data\":[\"shorts and a top or a dress ? hm.... Dress i think  Go Primark!!\",\"Going to get ready  Itunes on shuffle  Good weather  Good mood Today has a good feeling about it \",\"Yesterday was good (Y) weather was good \",\"Rachel over  stayed last night  out to the park again today \",\"Morning \\u003dD todays looking up  x\",\"school might be close tomorrow  because of  and s1 and s3 pupil having swine flu fingers crossed no one else gets it!!!\"]}\n"
     ]
    },
    {
     "name": "stderr",
     "output_type": "stream",
     "text": [
      " 95%|█████████▌| 95/100 [00:22<00:01,  4.52it/s]"
     ]
    },
    {
     "name": "stdout",
     "output_type": "stream",
     "text": [
      "add:  ok\n",
      "{\"id\":197150,\"data\":[\"@Clumsyflic the kid that got a second chance shudnt have. mowgli didnt. gutted \",\"Today i had a really sad day! Can\\u0027t wait to get home. \",\"I have an office day today and look at the weather again! \",\"@TheRealJordin Right there with you  Men have no iiiiiidddeeeeeea\",\"@rob206 Awwwww fantastic. Glad you enjoyed it hun. I couldnt get tickets for this year \",\"Back to hospital today  Shingles got worse. Have to be in by 10am.\",\"@jordan_davis Me either  gutted! Its not on tv either.\",\"@Alexandramusic Aww I\\u0027m right there with you. I\\u0027m shattered! 1St day back at work \",\"Oh why do docs give you appointments? You never actually see anyone on time \",\"@Geo_16_ I do like having time off work, but only when its authorised annua leave or flexitime. I hate being off sick \",\"@Clumsyflic And.... when you vote its adding votes to everyone else too! \",\"I reeeeeeeeeally want a new camera  but its Â£199. It\\u0027ll have to wait til July pay day... wish I didn\\u0027t do a grand online shop now! he he\",\"Do all men put their jobs and bosses before their women?  got stood up twice in two days!\",\" reeeeally needs someone to talk to \",\"@Alexandramusic Yeh please do... Maybe I\\u0027ll feed off your excitement. Lol. Miserable weather in Cardiff \",\"@alexandramusic Waaaaaaay did ya get to see, did ya get to see it? Hope you did and it was fab! \",\"@Amanda_Holden Thinking so far the public got it right every night! Shaheen was AMAZING!!! The Flatley duo \\u003d HILARIOUS! \",\"@alexandramusic Alex... if we believed everything we read none of us in the world wud be fans of anyone! True fans stick by! \",\"@Alexandramusic morning Alex! The weather in in Wales is AMAZING today. How is LA? \",\"@Amanda_Holden Loved your hair tonight!  Aiden was AMAZING!!!! Who was ur fave? x x x\",\"SUNSHINE! Lets have ice lollies and go for a drive in the convertible! WOOHOO \",\"@alexandramusic Awww lush. BBQ is the best.Had three in the last 2 weeks! Mmmmm always good with a few beers too! \",\"@Alexandramusic Aww you are so lovely! We just lucky to have you. \",\"@Davidburke i get id\\u0027d everywhere. Lol. And thanks for the get well wishes. \"]}\n"
     ]
    },
    {
     "name": "stderr",
     "output_type": "stream",
     "text": [
      " 96%|█████████▌| 96/100 [00:22<00:00,  4.56it/s]"
     ]
    },
    {
     "name": "stdout",
     "output_type": "stream",
     "text": [
      "add:  ok\n",
      "{\"id\":958224,\"data\":[\"Why are computers and technology hating on me so bad. First 3 years of art. Now 7 months of email?!? Technology and I used to buds. \",\"@TheLadyJane Off to go attempt it again... wish me zzzzzzzs. \"]}\n",
      "add:  ok\n"
     ]
    },
    {
     "name": "stderr",
     "output_type": "stream",
     "text": [
      " 97%|█████████▋| 97/100 [00:22<00:00,  4.71it/s]"
     ]
    },
    {
     "name": "stdout",
     "output_type": "stream",
     "text": [
      "{\"id\":256516,\"data\":[\"Hang in there Stephen Hawking \",\"@loquaciousmuse Saaaaaame. There\\u0027s no way I\\u0027m seeing it anytime soon \",\"I\\u0027m gonna miss it now  Plus no more Ant and Dec for...a long time. #bgt\",\"Watching some old Boston Legal. Man I miss this show more every time I see a rerun \",\"Kristen Stewart -and- Dakota Fanning starring in a Joan Jett biopic? I think I might be a little sick \",\"@ToplessRobot You know what else won\\u0027t let you sleep? This  http://bit.ly/18FkY6\",\"Good point Simon  #bgt\",\"Come on you Brits, get voting  I would...but y\\u0027know...Canada \\u003d(\",\"Good on you Britain you chose right  #bgt\",\"Over one million pounds for the Royal Variety Charity :o? Good job \"]}\n"
     ]
    },
    {
     "name": "stderr",
     "output_type": "stream",
     "text": [
      " 98%|█████████▊| 98/100 [00:23<00:00,  4.68it/s]"
     ]
    },
    {
     "name": "stdout",
     "output_type": "stream",
     "text": [
      "add:  ok\n",
      "{\"id\":304590,\"data\":[\"@carliecarrcrash I feel your pain  my three bffs all have dates...no ones asking me :-/\",\"I feel so out of the loop sometimes  I have to write a poem tomorrow for English, wish I actually had some talent in writing :-/ night all\",\"Goddamnit so much traffic \",\"@theresanoelle awwww I miss u and ashley soo much already \",\"Bedtime for real now....seriously hate my life right now  dear prom....fuck you. Love-Laura Aloneanddateless Lasko\",\"@theresanoelle aww Theresa I\\u0027m sorry I know how you feel \",\"@theresanoelle aw geez that\\u0027s really not fair for him, I feel really bad for him too  if you need to talk I\\u0027ve got my phone with me \\u0026lt;33\",\"Ugh we switched classes in gym so now I have a teacher who makes me take my bracelets off \",\"Hey guys sorry I\\u0027ve been so distant lately  I\\u0027ve been obsessing over this gym/loosing weight thing  I don\\u0027t think I\\u0027ll ever b satisfied\",\"I just want to say sorry for how distant I\\u0027ve been. I don\\u0027t mean to neglect anyone, I love you all I\\u0027m really sorry \",\"Is it weird that BND ending makes me want to cry as well \",\"Atl going to Australia makes me miss last summer so much, I love Australia I want to go back so badly \",\"FML you have to be 18 to stay where we are and there are guards everywhere but they don\\u0027t care...one just IDed us  fml ughhh\",\"Omg this us bard \",\"OMG my friend is trhieim up like xraxu  this is bass but she\\u0027s laigiinb\",\"...permanetky cause the htel can\\u0027t even get in cause  ad were wasted whichdoemst help  omg sorry I can\\u0027t elieve I\\u0027m tweetinv eerione ha\",\"At least I sidne tweet @JackAllTimeLow cause he reads it\\u0027 my friends taking my phone and making me sleeppp poet  goodnhvbg!\",\"@VeronicaATL fick  hahaha oops I wonder what I say I\\u0027ll Knwk tomorrow hahaha dam friend said one more tweet then bed \",\"Oops apparently I didgg tweet jack k sorry  can somoen tell him I sorry top haha this is my lastweeg matt says he says I hve say night!\",\"Fuck how the fuck are we getting in the other room omg this a bad \",\"I want to go home and sleep  one more hour!\",\"OMG Noo that\\u0027s so not good! Plz don\\u0027t listen guys it\\u0027s just not fair to them \",\"I\\u0027m waiting I couldn\\u0027t do that to them  @AlexAllTimeLow @JackAllTimeLow @riandawson @zackalltimelow I am so sorry \",\"Omg I feel so bad it\\u0027s so early \",\"@stephforthewin haha ok I would feel really bad \",\"Just ordered presale, guess I didn\\u0027t put in some code idk  whatever birthday tomorrow, more scared than excited :-/\",\"Oral IB commentary now  so much for my fun weekend\",\"@ATLHustlerClub Its relay for life tonight at my school I can\\u0027t \",\"@theresanoelle it went really well! Sorry I had to study  I have finals all week still and I haven\\u0027t studied at all tomorrow for sure!\",\"@theresanoelle it went really well! Sorry I had to study  I have finals all week still and I haven\\u0027t studied at all, tomorrow for sure!\",\"i hate studying  psyche final tomorrow, TWO MORE...then I\\u0027m officially a senior...yessss\",\"@sup_Ashley  I offcially miss everything  that\\u0027s cool though, I spent my night cleaning up an 8th grade graduation party\",\"@theresanoelle it\\u0027s ok don\\u0027t worry about it  just my luck that I didn\\u0027t make it on that night, oh well :-/\",\"@sup_ashley yeah hopefully I\\u0027ll be there for the cooler things  thanks though\\u0026lt;3 I\\u0027m fine Im just having a bad day so i\\u0027m already all blahh\",\"so pissed i don\\u0027t have my purse  tomorrow morning im getting it as early as possible\",\"@KaylaO wow that\\u0027s just great \",\"@ohayemily I told my friends I\\u0027d hang with them they\\u0027re drunk rn  I wish I could come \",\"@sparksthealy agreed I\\u0027m staying off this big hustler ones...this whole alex coming on took the fun out of it \",\"@ohayemily yeah I feel bad but...the guys coming on killed stickam for me  it was fun when we went on for fun not to see ALEX OMGZ \",\"@ohayemily same I miss thc being a way to become a family not fight over talking to a goddamn band boy I\\u0027m sick of drama  I miss\",\"@VeronicaATL as with people irl \",\"@danniFNB yeah I\\u0027m sorry I\\u0027ve been having a horrible day \",\"@danniFNB thanks girl  the I hate you comment or was there something else? Ugh it\\u0027s been one of those days :-/\",\"@VeronicaATL thanks vero \\u0026lt;33 ily too I\\u0027m just down tonight I\\u0027ll stop sounding so down soon it was just...a bad night  irl I mean :-/\",\"@VeronicaATL omg what\\u0027s going on now? Uhhh why can\\u0027t we just call a truce \",\"@VeronicaATL \\u0026lt;33 I\\u0027m sure they don\\u0027t, I know how you feel though I always feel that with thc lately \",\"If anyone wants to know what happened with me tonight text me tomorrow I can\\u0027t tweet it  goodnight guys sorry I\\u0027m being so annoying \",\"@theresanoelle my computer froze and it was private so I was pit after ten minutes \",\"@theresanoelle my computer froze and it was private so I was out after ten minutes \",\"@sup_ashley I agree I said that last night  I miss going on for us\",\"@sup_ashley I know!! I wanted to introduce my friends with me to you all on stickam but it was just drama and chaos \",\"@sparksthealy no aly it\\u0027s not that at all I miss you girl and care about you, I just feel like I accidently abandoned thc \",\"I lost my rainbow bracelet in my room somewhere  someone help me find it!\",\"Omg Miley cyrus just said on good morning America that she wakes up at five to read her bible LMFAO anyone else smell bullshit? \",\"Oh did I mention derek played a brand new song, he said we were the first people besides the band to ever hear it \",\"All around great day. Thnk you @DerekSanders for a great acoustic set  goodnight twitter, sry again people who I didn\\u0027t text back earlier\",\"@woahitssarah okk thank you \",\"@LindsayATL omg I\\u0027m so psyched right now!  hmm what time are you getting there?\",\"Just cut up my mens large I \\u0026lt;3 boobies shirt signed by the Maine  I\\u0027m satisfied with my work\",\"@JMatthewFlyzik haha sorry but I will Never stop loving my iPhone \",\"Anyone else want to help me @reply jack with my booty shorts  I\\u0027d love ya forever \\u0026lt;33   http://twitpic.com/5chcy\",\"@jaybird135 awww thank you \",\"@theresanoelle hahaha yup you fail three days lol But YES THANK U!  http://twitpic.com/69rwg\",\"@VeronicaATL don\\u0027t worry I\\u0027m fine ily  aha this is matt lauras friend haha she is dictating to me what to say \",\"@JackAllTimeLow if I could see straight I\\u0027d be there \",\"@yo_desiree Nope! luckily it was just a scam, false alarm! \",\"@yo_desiree thank you! yupp this is prom \",\"Guess what guys? Tomorrow is my license test \",\"@zane_latta thank you! \",\"Best birthday ever  thanks for all the bday wishes sorry I didn\\u0027t @reply everyone but seriously thanks so much \",\"Relay for life tonight! Woo all nighter for a good cause, my team raised 4,654 dollars for the American cancer society winnn \"]}\n"
     ]
    },
    {
     "name": "stderr",
     "output_type": "stream",
     "text": [
      " 99%|█████████▉| 99/100 [00:23<00:00,  4.46it/s]"
     ]
    },
    {
     "name": "stdout",
     "output_type": "stream",
     "text": [
      "add:  ok\n",
      "{\"id\":63992,\"data\":[\"hey girlys who are headed to prom post you prom pictures! i want to see them. \",\"holy crap, i am still alive! hopefully hanging with my friend katie today. \"]}\n"
     ]
    },
    {
     "name": "stderr",
     "output_type": "stream",
     "text": [
      "100%|██████████| 100/100 [00:23<00:00,  4.25it/s]"
     ]
    },
    {
     "name": "stdout",
     "output_type": "stream",
     "text": [
      "add:  ok\n",
      "{\"id\":196373,\"data\":[\"@drilone no email?   just kidding, it can wait filling out form now... seriously.\",\"@Agent_R we don\\u0027t have teeth and are painfully shy. almost agoraphobic! so sad! \",\"@Lunabee_art awww! imagine him looking up at you and saying... you don\\u0027t love me!  *tears*\",\"@skinnyribs too much grape makes me sluggy. today feels like the world stopped. don\\u0027t no why. just not feeling any energy. \",\"@LouPimentel lol... riboflavin! you are quick and funny! \",\"@pinkachan hey there! \",\"just back from chicago signing at rotofufi. thanks whitney, lirby and joe! you\\u0027re awesome!!!! \",\"@glennpogue thanks! people were so nice and rotofugi is wonderful! \",\"@smallandround beautiful carpet!  how about the pictures in the distance?\",\"@smallandround was awesome! everyone was so nice. great turnout. we\\u0027re very fortunate. travis lampe\\u0027s cool. met shawnimal too! cool guy! \",\"@pinkachan cool! nice coverage! \",\"@Mezandy toasted marshall a natural.. thank you for the rt! \",\"@JamFactory are droplets emo? i like emo! i love my droplets! \",\"@pinkachan ...mmmm... blackwawks fan from my chicago days. wings fan due to current local.  do like capitals too!\",\"@podgypanda read the latest issue... it\\u0027s wonderful! \",\"out. over. done. poof! gone! goodnight! gonna go drink some wine at look at the stars. \"]}\n"
     ]
    },
    {
     "name": "stderr",
     "output_type": "stream",
     "text": [
      "\n"
     ]
    }
   ],
   "source": [
    "fill_users_data()"
   ],
   "metadata": {
    "collapsed": false,
    "pycharm": {
     "name": "#%%\n"
    }
   }
  },
  {
   "cell_type": "code",
   "execution_count": 55,
   "outputs": [
    {
     "data": {
      "text/plain": "'{\"id\":196373,\"data\":[\"@drilone no email?   just kidding, it can wait filling out form now... seriously.\",\"@Agent_R we don\\\\u0027t have teeth and are painfully shy. almost agoraphobic! so sad! \",\"@Lunabee_art awww! imagine him looking up at you and saying... you don\\\\u0027t love me!  *tears*\",\"@skinnyribs too much grape makes me sluggy. today feels like the world stopped. don\\\\u0027t no why. just not feeling any energy. \",\"@LouPimentel lol... riboflavin! you are quick and funny! \",\"@pinkachan hey there! \",\"just back from chicago signing at rotofufi. thanks whitney, lirby and joe! you\\\\u0027re awesome!!!! \",\"@glennpogue thanks! people were so nice and rotofugi is wonderful! \",\"@smallandround beautiful carpet!  how about the pictures in the distance?\",\"@smallandround was awesome! everyone was so nice. great turnout. we\\\\u0027re very fortunate. travis lampe\\\\u0027s cool. met shawnimal too! cool guy! \",\"@pinkachan cool! nice coverage! \",\"@Mezandy toasted marshall a natural.. thank you for the rt! \",\"@JamFactory are droplets emo? i like emo! i love my droplets! \",\"@pinkachan ...mmmm... blackwawks fan from my chicago days. wings fan due to current local.  do like capitals too!\",\"@podgypanda read the latest issue... it\\\\u0027s wonderful! \",\"out. over. done. poof! gone! goodnight! gonna go drink some wine at look at the stars. \"]}'"
     },
     "execution_count": 55,
     "metadata": {},
     "output_type": "execute_result"
    }
   ],
   "source": [
    "get_info(196373)"
   ],
   "metadata": {
    "collapsed": false,
    "pycharm": {
     "name": "#%%\n"
    }
   }
  },
  {
   "cell_type": "code",
   "execution_count": null,
   "outputs": [],
   "source": [],
   "metadata": {
    "collapsed": false,
    "pycharm": {
     "name": "#%%\n"
    }
   }
  }
 ],
 "metadata": {
  "kernelspec": {
   "display_name": "Python 3",
   "language": "python",
   "name": "python3"
  },
  "language_info": {
   "codemirror_mode": {
    "name": "ipython",
    "version": 2
   },
   "file_extension": ".py",
   "mimetype": "text/x-python",
   "name": "python",
   "nbconvert_exporter": "python",
   "pygments_lexer": "ipython2",
   "version": "2.7.6"
  }
 },
 "nbformat": 4,
 "nbformat_minor": 0
}